{
  "cells": [
    {
      "cell_type": "markdown",
      "metadata": {
        "id": "3wvIlYndf3UB"
      },
      "source": [
        "#project: Predicting the climate and the weather\n",
        "\n",
        "\n",
        "## Global Historial Climatology Network\n",
        "GHCN (Global Historical Climatology Network)-Daily is an integrated database of daily climate summaries from land surface stations across the globe. \n",
        "\n",
        "THe GHCN has many datasets from weather stations across the globe. A README describing the data form is available here https://www1.ncdc.noaa.gov/pub/data/ghcn/daily/readme.txt\n",
        "The data used was only till 2020, so predictions can also be verified.\n",
        "\n",
        "\n",
        "### Machine Learning Tasks: \n",
        "1. design a machine learning technique that can predict the climate (defined as the weekly or monthly average) a year in advance  \n",
        "2. design a machine learning technique that can predict the weather (temperature, rainfall, snow fall, etc.) \n",
        "\n",
        "\n",
        "\n",
        "\n"
      ]
    },
    {
      "cell_type": "code",
      "execution_count": 23,
      "metadata": {
        "id": "kWcCjQrq3a77"
      },
      "outputs": [],
      "source": [
        "\n",
        "import pandas as pd\n",
        "import tensorflow as tf\n",
        "from tensorflow import keras\n",
        "import matplotlib.pyplot as plt \n",
        "import numpy as np\n"
      ]
    },
    {
      "cell_type": "code",
      "source": [
        "def readdata (stat): #this fucntion will read the file using the url. You just need to enter the code of your station like 'IN003041800'\n",
        "  name=str(stat) + '.dly'\n",
        "\n",
        "  url='https://www.hep.ucl.ac.uk/undergrad/0056/other/projects/ghcnd/ghcnd_gsn/'+name\n",
        "  file= pd.read_fwf(url)\n",
        "  return(file)\n",
        "\n",
        "def add(stat):\n",
        "  name=str(stat) + '.dly'\n",
        "\n",
        "  url='https://www.hep.ucl.ac.uk/undergrad/0056/other/projects/ghcnd/ghcnd_gsn/'+name\n",
        "  return(url)\n",
        "\n",
        "url=add('IN003041800') #created this url function as it will be used later\n",
        "\n"
      ],
      "metadata": {
        "id": "-dxQgZrKMkTw"
      },
      "execution_count": 2,
      "outputs": []
    },
    {
      "cell_type": "code",
      "execution_count": 3,
      "metadata": {
        "id": "8zv1WWvNyCf6"
      },
      "outputs": [],
      "source": [
        "file=readdata('IN003041800')"
      ]
    },
    {
      "cell_type": "code",
      "source": [
        "file.dropna(axis=0,inplace=True)\n",
        "file.head()"
      ],
      "metadata": {
        "colab": {
          "base_uri": "https://localhost:8080/",
          "height": 507
        },
        "id": "zpBhofbIk3dO",
        "outputId": "007ebd0d-7ab4-4009-a322-4c3da6ee8827"
      },
      "execution_count": 4,
      "outputs": [
        {
          "output_type": "execute_result",
          "data": {
            "text/plain": [
              "     IN003041800194503TMAX-9999    -9999  -9999.1  -9999.2  -9999.3  -9999.4  \\\n",
              "0    IN003041800194503TMIN-9999    -9999    -9999    -9999    -9999    -9999   \n",
              "2    IN003041800194503TAVG-9999    -9999    -9999    -9999    -9999    -9999   \n",
              "8    IN003041800194505TMIN  200   S  222   S-9999      222   S  228   S  222   \n",
              "9    IN003041800194505PRCP    0   S-9999    -9999       20   S    0   S   61   \n",
              "10  IN003041800194505TAVG  273H  S  297H  S  259H  S  251H  S  264H  S  268H   \n",
              "\n",
              "    -9999.5  -9999.6  -9999.7  -9999.8  ...   S-9999      322 S  328.1  \\\n",
              "0     -9999    -9999    -9999    -9999  ...   S-9999      189   S-9999   \n",
              "2     -9999    -9999    -9999    -9999  ...  S  255H  S  253H  S  251H   \n",
              "8    S-9999      217   S-9999      211  ...   S-9999    -9999    -9999   \n",
              "9    S   61   S  259   S  231   S   99  ...    -9999       10   S  391   \n",
              "10  S  243H  S  246H  S  247H  S  272H  ...  S  276H  S  269H  S  259H   \n",
              "\n",
              "     S  317 S  317.1   S-9999   -9999 -9999.18 -9999.19 -9999.20 Unnamed: 30  \n",
              "0       183   S  178   S  189  S-9999    -9999      222   S  222           S  \n",
              "2   S  229H  S  251H  S  264H S  280H  S  266H  S  283H  S  282H           S  \n",
              "8       217   S  222   S  217  S  217   S  228   S  228   S  233           S  \n",
              "9    S  140   S  470   S  361  S   41   S   30   S  249   S   10           S  \n",
              "10  S  267H  S  247H  S  241H S  268H  S  260H  S  265H  S  270H           S  \n",
              "\n",
              "[5 rows x 31 columns]"
            ],
            "text/html": [
              "\n",
              "  <div id=\"df-d722544a-e7d3-49eb-a244-c6ca0508a267\">\n",
              "    <div class=\"colab-df-container\">\n",
              "      <div>\n",
              "<style scoped>\n",
              "    .dataframe tbody tr th:only-of-type {\n",
              "        vertical-align: middle;\n",
              "    }\n",
              "\n",
              "    .dataframe tbody tr th {\n",
              "        vertical-align: top;\n",
              "    }\n",
              "\n",
              "    .dataframe thead th {\n",
              "        text-align: right;\n",
              "    }\n",
              "</style>\n",
              "<table border=\"1\" class=\"dataframe\">\n",
              "  <thead>\n",
              "    <tr style=\"text-align: right;\">\n",
              "      <th></th>\n",
              "      <th>IN003041800194503TMAX-9999</th>\n",
              "      <th>-9999</th>\n",
              "      <th>-9999.1</th>\n",
              "      <th>-9999.2</th>\n",
              "      <th>-9999.3</th>\n",
              "      <th>-9999.4</th>\n",
              "      <th>-9999.5</th>\n",
              "      <th>-9999.6</th>\n",
              "      <th>-9999.7</th>\n",
              "      <th>-9999.8</th>\n",
              "      <th>...</th>\n",
              "      <th>S-9999</th>\n",
              "      <th>322</th>\n",
              "      <th>S  328.1</th>\n",
              "      <th>S  317</th>\n",
              "      <th>S  317.1</th>\n",
              "      <th>S-9999   -9999</th>\n",
              "      <th>-9999.18</th>\n",
              "      <th>-9999.19</th>\n",
              "      <th>-9999.20</th>\n",
              "      <th>Unnamed: 30</th>\n",
              "    </tr>\n",
              "  </thead>\n",
              "  <tbody>\n",
              "    <tr>\n",
              "      <th>0</th>\n",
              "      <td>IN003041800194503TMIN-9999</td>\n",
              "      <td>-9999</td>\n",
              "      <td>-9999</td>\n",
              "      <td>-9999</td>\n",
              "      <td>-9999</td>\n",
              "      <td>-9999</td>\n",
              "      <td>-9999</td>\n",
              "      <td>-9999</td>\n",
              "      <td>-9999</td>\n",
              "      <td>-9999</td>\n",
              "      <td>...</td>\n",
              "      <td>S-9999</td>\n",
              "      <td>189</td>\n",
              "      <td>S-9999</td>\n",
              "      <td>183</td>\n",
              "      <td>S  178</td>\n",
              "      <td>S  189  S-9999</td>\n",
              "      <td>-9999</td>\n",
              "      <td>222</td>\n",
              "      <td>S  222</td>\n",
              "      <td>S</td>\n",
              "    </tr>\n",
              "    <tr>\n",
              "      <th>2</th>\n",
              "      <td>IN003041800194503TAVG-9999</td>\n",
              "      <td>-9999</td>\n",
              "      <td>-9999</td>\n",
              "      <td>-9999</td>\n",
              "      <td>-9999</td>\n",
              "      <td>-9999</td>\n",
              "      <td>-9999</td>\n",
              "      <td>-9999</td>\n",
              "      <td>-9999</td>\n",
              "      <td>-9999</td>\n",
              "      <td>...</td>\n",
              "      <td>S  255H</td>\n",
              "      <td>S  253H</td>\n",
              "      <td>S  251H</td>\n",
              "      <td>S  229H</td>\n",
              "      <td>S  251H</td>\n",
              "      <td>S  264H S  280H</td>\n",
              "      <td>S  266H</td>\n",
              "      <td>S  283H</td>\n",
              "      <td>S  282H</td>\n",
              "      <td>S</td>\n",
              "    </tr>\n",
              "    <tr>\n",
              "      <th>8</th>\n",
              "      <td>IN003041800194505TMIN  200</td>\n",
              "      <td>S  222</td>\n",
              "      <td>S-9999</td>\n",
              "      <td>222</td>\n",
              "      <td>S  228</td>\n",
              "      <td>S  222</td>\n",
              "      <td>S-9999</td>\n",
              "      <td>217</td>\n",
              "      <td>S-9999</td>\n",
              "      <td>211</td>\n",
              "      <td>...</td>\n",
              "      <td>S-9999</td>\n",
              "      <td>-9999</td>\n",
              "      <td>-9999</td>\n",
              "      <td>217</td>\n",
              "      <td>S  222</td>\n",
              "      <td>S  217  S  217</td>\n",
              "      <td>S  228</td>\n",
              "      <td>S  228</td>\n",
              "      <td>S  233</td>\n",
              "      <td>S</td>\n",
              "    </tr>\n",
              "    <tr>\n",
              "      <th>9</th>\n",
              "      <td>IN003041800194505PRCP    0</td>\n",
              "      <td>S-9999</td>\n",
              "      <td>-9999</td>\n",
              "      <td>20</td>\n",
              "      <td>S    0</td>\n",
              "      <td>S   61</td>\n",
              "      <td>S   61</td>\n",
              "      <td>S  259</td>\n",
              "      <td>S  231</td>\n",
              "      <td>S   99</td>\n",
              "      <td>...</td>\n",
              "      <td>-9999</td>\n",
              "      <td>10</td>\n",
              "      <td>S  391</td>\n",
              "      <td>S  140</td>\n",
              "      <td>S  470</td>\n",
              "      <td>S  361  S   41</td>\n",
              "      <td>S   30</td>\n",
              "      <td>S  249</td>\n",
              "      <td>S   10</td>\n",
              "      <td>S</td>\n",
              "    </tr>\n",
              "    <tr>\n",
              "      <th>10</th>\n",
              "      <td>IN003041800194505TAVG  273H</td>\n",
              "      <td>S  297H</td>\n",
              "      <td>S  259H</td>\n",
              "      <td>S  251H</td>\n",
              "      <td>S  264H</td>\n",
              "      <td>S  268H</td>\n",
              "      <td>S  243H</td>\n",
              "      <td>S  246H</td>\n",
              "      <td>S  247H</td>\n",
              "      <td>S  272H</td>\n",
              "      <td>...</td>\n",
              "      <td>S  276H</td>\n",
              "      <td>S  269H</td>\n",
              "      <td>S  259H</td>\n",
              "      <td>S  267H</td>\n",
              "      <td>S  247H</td>\n",
              "      <td>S  241H S  268H</td>\n",
              "      <td>S  260H</td>\n",
              "      <td>S  265H</td>\n",
              "      <td>S  270H</td>\n",
              "      <td>S</td>\n",
              "    </tr>\n",
              "  </tbody>\n",
              "</table>\n",
              "<p>5 rows × 31 columns</p>\n",
              "</div>\n",
              "      <button class=\"colab-df-convert\" onclick=\"convertToInteractive('df-d722544a-e7d3-49eb-a244-c6ca0508a267')\"\n",
              "              title=\"Convert this dataframe to an interactive table.\"\n",
              "              style=\"display:none;\">\n",
              "        \n",
              "  <svg xmlns=\"http://www.w3.org/2000/svg\" height=\"24px\"viewBox=\"0 0 24 24\"\n",
              "       width=\"24px\">\n",
              "    <path d=\"M0 0h24v24H0V0z\" fill=\"none\"/>\n",
              "    <path d=\"M18.56 5.44l.94 2.06.94-2.06 2.06-.94-2.06-.94-.94-2.06-.94 2.06-2.06.94zm-11 1L8.5 8.5l.94-2.06 2.06-.94-2.06-.94L8.5 2.5l-.94 2.06-2.06.94zm10 10l.94 2.06.94-2.06 2.06-.94-2.06-.94-.94-2.06-.94 2.06-2.06.94z\"/><path d=\"M17.41 7.96l-1.37-1.37c-.4-.4-.92-.59-1.43-.59-.52 0-1.04.2-1.43.59L10.3 9.45l-7.72 7.72c-.78.78-.78 2.05 0 2.83L4 21.41c.39.39.9.59 1.41.59.51 0 1.02-.2 1.41-.59l7.78-7.78 2.81-2.81c.8-.78.8-2.07 0-2.86zM5.41 20L4 18.59l7.72-7.72 1.47 1.35L5.41 20z\"/>\n",
              "  </svg>\n",
              "      </button>\n",
              "      \n",
              "  <style>\n",
              "    .colab-df-container {\n",
              "      display:flex;\n",
              "      flex-wrap:wrap;\n",
              "      gap: 12px;\n",
              "    }\n",
              "\n",
              "    .colab-df-convert {\n",
              "      background-color: #E8F0FE;\n",
              "      border: none;\n",
              "      border-radius: 50%;\n",
              "      cursor: pointer;\n",
              "      display: none;\n",
              "      fill: #1967D2;\n",
              "      height: 32px;\n",
              "      padding: 0 0 0 0;\n",
              "      width: 32px;\n",
              "    }\n",
              "\n",
              "    .colab-df-convert:hover {\n",
              "      background-color: #E2EBFA;\n",
              "      box-shadow: 0px 1px 2px rgba(60, 64, 67, 0.3), 0px 1px 3px 1px rgba(60, 64, 67, 0.15);\n",
              "      fill: #174EA6;\n",
              "    }\n",
              "\n",
              "    [theme=dark] .colab-df-convert {\n",
              "      background-color: #3B4455;\n",
              "      fill: #D2E3FC;\n",
              "    }\n",
              "\n",
              "    [theme=dark] .colab-df-convert:hover {\n",
              "      background-color: #434B5C;\n",
              "      box-shadow: 0px 1px 3px 1px rgba(0, 0, 0, 0.15);\n",
              "      filter: drop-shadow(0px 1px 2px rgba(0, 0, 0, 0.3));\n",
              "      fill: #FFFFFF;\n",
              "    }\n",
              "  </style>\n",
              "\n",
              "      <script>\n",
              "        const buttonEl =\n",
              "          document.querySelector('#df-d722544a-e7d3-49eb-a244-c6ca0508a267 button.colab-df-convert');\n",
              "        buttonEl.style.display =\n",
              "          google.colab.kernel.accessAllowed ? 'block' : 'none';\n",
              "\n",
              "        async function convertToInteractive(key) {\n",
              "          const element = document.querySelector('#df-d722544a-e7d3-49eb-a244-c6ca0508a267');\n",
              "          const dataTable =\n",
              "            await google.colab.kernel.invokeFunction('convertToInteractive',\n",
              "                                                     [key], {});\n",
              "          if (!dataTable) return;\n",
              "\n",
              "          const docLinkHtml = 'Like what you see? Visit the ' +\n",
              "            '<a target=\"_blank\" href=https://colab.research.google.com/notebooks/data_table.ipynb>data table notebook</a>'\n",
              "            + ' to learn more about interactive tables.';\n",
              "          element.innerHTML = '';\n",
              "          dataTable['output_type'] = 'display_data';\n",
              "          await google.colab.output.renderOutput(dataTable, element);\n",
              "          const docLink = document.createElement('div');\n",
              "          docLink.innerHTML = docLinkHtml;\n",
              "          element.appendChild(docLink);\n",
              "        }\n",
              "      </script>\n",
              "    </div>\n",
              "  </div>\n",
              "  "
            ]
          },
          "metadata": {},
          "execution_count": 4
        }
      ]
    },
    {
      "cell_type": "code",
      "execution_count": 5,
      "metadata": {
        "id": "4VbrDQyyPHJZ",
        "colab": {
          "base_uri": "https://localhost:8080/"
        },
        "outputId": "850685fe-a351-4753-dbbc-8f50e982b2ab"
      },
      "outputs": [
        {
          "output_type": "stream",
          "name": "stdout",
          "text": [
            "DATE        PRCP   TAVG   TMAX   TMIN\n",
            "1993-02-24   0.0  166.0  235.0   97.0\n",
            "1993-02-25   0.0  154.0    NaN   96.0\n",
            "1993-02-26   0.0  187.0  260.0  111.0\n",
            "1993-02-27   0.0  196.0  264.0    NaN\n",
            "1993-02-28   0.0  209.0  273.0  138.0\n",
            "...          ...    ...    ...    ...\n",
            "2020-11-09   NaN  238.0    NaN  166.0\n",
            "2020-11-10   NaN  240.0    NaN  173.0\n",
            "2020-11-11   NaN  246.0    NaN  170.0\n",
            "2020-11-12   NaN  244.0    NaN  170.0\n",
            "2020-11-13   NaN  246.0    NaN  172.0\n",
            "\n",
            "[10000 rows x 4 columns]\n"
          ]
        },
        {
          "output_type": "stream",
          "name": "stderr",
          "text": [
            "<ipython-input-5-15ec3eb454d0>:131: FutureWarning: The pandas.np module is deprecated and will be removed from pandas in a future version. Import numpy directly instead.\n",
            "  df.replace(-9999.0, pd.np.nan, inplace=True)\n"
          ]
        }
      ],
      "source": [
        "#this whole code helps you reorganize the data into the 4/5 column you would require for this project\n",
        "\n",
        "metadata_col_specs = [ \n",
        "    (0,  12),\n",
        "    (12, 21),\n",
        "    (21, 31),\n",
        "    (31, 38),\n",
        "    (38, 41),\n",
        "    (41, 72),\n",
        "    (72, 76),\n",
        "    (76, 80),\n",
        "    (80, 86)\n",
        "]\n",
        "#just separating all the data from the ghcn directory\n",
        "metadata_names = [\n",
        "    \"ID\",\n",
        "    \"LATITUDE\",\n",
        "    \"LONGITUDE\",\n",
        "    \"ELEVATION\",\n",
        "    \"STATE\",\n",
        "    \"NAME\",\n",
        "    \"GSN FLAG\",\n",
        "    \"HCN/CRN FLAG\",\n",
        "    \"WMO ID\"]\n",
        "\n",
        "metadata_dtype = {\n",
        "    \"ID\": str,\n",
        "    \"STATE\": str,\n",
        "    \"NAME\": str,\n",
        "    \"GSN FLAG\": str,\n",
        "    \"HCN/CRN FLAG\": str,\n",
        "    \"WMO ID\": str\n",
        "    }\n",
        "\n",
        "# Data specs \n",
        "\n",
        "data_header_names = [\n",
        "    \"ID\",\n",
        "    \"YEAR\",\n",
        "    \"MONTH\",\n",
        "    \"DATE\"]\n",
        "\n",
        "data_header_col_specs = [\n",
        "    (0,  11),\n",
        "    (11, 15),\n",
        "    (15, 17),\n",
        "    (17, 21)]\n",
        "\n",
        "data_header_dtypes = {\n",
        "    \"ID\": str,\n",
        "    \"YEAR\": int,\n",
        "    \"MONTH\": int,\n",
        "    \"DATE\": str}\n",
        "\n",
        "data_col_names = [[\n",
        "    \"VALUE\" + str(i + 1),\n",
        "    \"MFLAG\" + str(i + 1),\n",
        "    \"QFLAG\" + str(i + 1),\n",
        "    \"SFLAG\" + str(i + 1)]\n",
        "    for i in range(31)]\n",
        "# Join sub-lists\n",
        "data_col_names = sum(data_col_names, [])\n",
        "\n",
        "data_replacement_col_names = [[\n",
        "    (\"VALUE\", i + 1),\n",
        "    (\"MFLAG\", i + 1),\n",
        "    (\"QFLAG\", i + 1),\n",
        "    (\"SFLAG\", i + 1)]\n",
        "    for i in range(31)]\n",
        "# Join sub-lists\n",
        "data_replacement_col_names = sum(data_replacement_col_names, [])\n",
        "data_replacement_col_names = pd.MultiIndex.from_tuples(\n",
        "    data_replacement_col_names,\n",
        "    names=['VAR_TYPE', 'DAY'])\n",
        "\n",
        "data_col_specs = [[\n",
        "    (21 + i * 8, 26 + i * 8),\n",
        "    (26 + i * 8, 27 + i * 8),\n",
        "    (27 + i * 8, 28 + i * 8),\n",
        "    (28 + i * 8, 29 + i * 8)]\n",
        "    for i in range(31)]\n",
        "data_col_specs = sum(data_col_specs, [])\n",
        "\n",
        "data_col_dtypes = [{\n",
        "    \"VALUE\" + str(i + 1): int,\n",
        "    \"MFLAG\" + str(i + 1): str,\n",
        "    \"QFLAG\" + str(i + 1): str,\n",
        "    \"SFLAG\" + str(i + 1): str}\n",
        "    for i in range(31)]\n",
        "data_header_dtypes.update({k: v for d in data_col_dtypes for k, v in d.items()})\n",
        "\n",
        "# Reading functions, this is similar to the one above but will make the table with just the URL\n",
        "\n",
        "def read_station_metadata(filename=\"ghcnd-stations.txt\"):\n",
        "    \"\"\"Reads in station metadata\n",
        "\n",
        "    :filename: ghcnd station metadata file.\n",
        "    :returns: station metadata as a pandas Dataframe\n",
        "\n",
        "    \"\"\"\n",
        "    df = pd.read_fwf(filename, metadata_col_specs, names=metadata_names,\n",
        "                     index_col='ID', dtype=metadata_dtype)\n",
        "\n",
        "    return df\n",
        "\n",
        "def read_ghcn_data_file(filename=\"ghcnd_all/USW00014936.dly\",\n",
        "                        variables=None, include_flags=False,\n",
        "                        dropna='all'):\n",
        "    \"\"\"Reads in all data from a GHCN .dly data file\"\"\"\n",
        "\n",
        "    df = pd.read_fwf(\n",
        "        filename,\n",
        "        colspecs=data_header_col_specs + data_col_specs,\n",
        "        names=data_header_names + data_col_names,\n",
        "        index_col=data_header_names,\n",
        "        dtype=data_header_dtypes\n",
        "        )\n",
        "\n",
        "    if variables is not None:\n",
        "        df = df[df.index.get_level_values('DATE').isin(variables)]\n",
        "\n",
        "    df.columns = data_replacement_col_names\n",
        "\n",
        "    if not include_flags:\n",
        "        df = df.loc[:, ('VALUE', slice(None))]\n",
        "        df.columns = df.columns.droplevel('VAR_TYPE')\n",
        "\n",
        "    df = df.stack(level='DAY').unstack(level='DATE')\n",
        "\n",
        "    if dropna:\n",
        "        df.replace(-9999.0, pd.np.nan, inplace=True)\n",
        "        df.dropna(how=dropna, inplace=True)\n",
        "        \n",
        "        #replace the entire index with the date\n",
        "        df.index = pd.to_datetime( df.index.get_level_values('YEAR') * 10000 + df.index.get_level_values('MONTH') * 100 + df.index.get_level_values('DAY'),format='%Y%m%d')\n",
        "        \n",
        "    \n",
        "    return df[-10000:]\n",
        "\n",
        "\n",
        "files=read_ghcn_data_file(url,\n",
        "                        variables=None, include_flags=False,\n",
        "                        dropna='all')\n",
        "print(files)\n"
      ]
    },
    {
      "cell_type": "code",
      "source": [
        "def make_timeseqs(series,n_ts,offset):\n",
        "    nn_df = pd.DataFrame()\n",
        "    for i in range(n_ts):\n",
        "        nn_df[i] = series.shift(n_ts-i) #Shift the data by n_ts-i samples\n",
        "    nn_df['label'] = series.shift(-offset)\n",
        "    return nn_df"
      ],
      "metadata": {
        "id": "EY5vJOoCnDbV"
      },
      "execution_count": 6,
      "outputs": []
    },
    {
      "cell_type": "markdown",
      "source": [
        "### **PREDICTING TMAX**"
      ],
      "metadata": {
        "id": "wBun4z8o5Rbe"
      }
    },
    {
      "cell_type": "code",
      "source": [
        "print(files.TMAX.max()) #printing the value for normalisation "
      ],
      "metadata": {
        "colab": {
          "base_uri": "https://localhost:8080/"
        },
        "id": "d7FmE0W2y2IM",
        "outputId": "34d403a1-72e6-4687-91d9-aec746be2b9c"
      },
      "execution_count": 7,
      "outputs": [
        {
          "output_type": "stream",
          "name": "stdout",
          "text": [
            "406.0\n"
          ]
        }
      ]
    },
    {
      "cell_type": "code",
      "source": [
        "files.TMAX=files.TMAX/files.TMAX.max()\n",
        "offset=1\n",
        "n_ts=3 #Number of values in a time sequence\n",
        "nn_df=make_timeseqs(files.TMAX,n_ts,offset) #6 samples per row for training, offset of 0 (so next sample)\n",
        "nn_df.head(10)"
      ],
      "metadata": {
        "colab": {
          "base_uri": "https://localhost:8080/",
          "height": 363
        },
        "id": "JBCJmJvknKX8",
        "outputId": "637ed0ad-77a5-4c26-95d9-a0bb3c2ae3f5"
      },
      "execution_count": 8,
      "outputs": [
        {
          "output_type": "execute_result",
          "data": {
            "text/plain": [
              "                   0         1         2     label\n",
              "1993-02-24       NaN       NaN       NaN       NaN\n",
              "1993-02-25       NaN       NaN  0.578818  0.640394\n",
              "1993-02-26       NaN  0.578818       NaN  0.650246\n",
              "1993-02-27  0.578818       NaN  0.640394  0.672414\n",
              "1993-02-28       NaN  0.640394  0.650246  0.689655\n",
              "1993-03-01  0.640394  0.650246  0.672414  0.684729\n",
              "1993-03-02  0.650246  0.672414  0.689655  0.709360\n",
              "1993-03-03  0.672414  0.689655  0.684729  0.714286\n",
              "1993-03-04  0.689655  0.684729  0.709360  0.721675\n",
              "1993-03-05  0.684729  0.709360  0.714286  0.709360"
            ],
            "text/html": [
              "\n",
              "  <div id=\"df-67ff511f-21af-4ac0-981f-c284465d2c5b\">\n",
              "    <div class=\"colab-df-container\">\n",
              "      <div>\n",
              "<style scoped>\n",
              "    .dataframe tbody tr th:only-of-type {\n",
              "        vertical-align: middle;\n",
              "    }\n",
              "\n",
              "    .dataframe tbody tr th {\n",
              "        vertical-align: top;\n",
              "    }\n",
              "\n",
              "    .dataframe thead th {\n",
              "        text-align: right;\n",
              "    }\n",
              "</style>\n",
              "<table border=\"1\" class=\"dataframe\">\n",
              "  <thead>\n",
              "    <tr style=\"text-align: right;\">\n",
              "      <th></th>\n",
              "      <th>0</th>\n",
              "      <th>1</th>\n",
              "      <th>2</th>\n",
              "      <th>label</th>\n",
              "    </tr>\n",
              "  </thead>\n",
              "  <tbody>\n",
              "    <tr>\n",
              "      <th>1993-02-24</th>\n",
              "      <td>NaN</td>\n",
              "      <td>NaN</td>\n",
              "      <td>NaN</td>\n",
              "      <td>NaN</td>\n",
              "    </tr>\n",
              "    <tr>\n",
              "      <th>1993-02-25</th>\n",
              "      <td>NaN</td>\n",
              "      <td>NaN</td>\n",
              "      <td>0.578818</td>\n",
              "      <td>0.640394</td>\n",
              "    </tr>\n",
              "    <tr>\n",
              "      <th>1993-02-26</th>\n",
              "      <td>NaN</td>\n",
              "      <td>0.578818</td>\n",
              "      <td>NaN</td>\n",
              "      <td>0.650246</td>\n",
              "    </tr>\n",
              "    <tr>\n",
              "      <th>1993-02-27</th>\n",
              "      <td>0.578818</td>\n",
              "      <td>NaN</td>\n",
              "      <td>0.640394</td>\n",
              "      <td>0.672414</td>\n",
              "    </tr>\n",
              "    <tr>\n",
              "      <th>1993-02-28</th>\n",
              "      <td>NaN</td>\n",
              "      <td>0.640394</td>\n",
              "      <td>0.650246</td>\n",
              "      <td>0.689655</td>\n",
              "    </tr>\n",
              "    <tr>\n",
              "      <th>1993-03-01</th>\n",
              "      <td>0.640394</td>\n",
              "      <td>0.650246</td>\n",
              "      <td>0.672414</td>\n",
              "      <td>0.684729</td>\n",
              "    </tr>\n",
              "    <tr>\n",
              "      <th>1993-03-02</th>\n",
              "      <td>0.650246</td>\n",
              "      <td>0.672414</td>\n",
              "      <td>0.689655</td>\n",
              "      <td>0.709360</td>\n",
              "    </tr>\n",
              "    <tr>\n",
              "      <th>1993-03-03</th>\n",
              "      <td>0.672414</td>\n",
              "      <td>0.689655</td>\n",
              "      <td>0.684729</td>\n",
              "      <td>0.714286</td>\n",
              "    </tr>\n",
              "    <tr>\n",
              "      <th>1993-03-04</th>\n",
              "      <td>0.689655</td>\n",
              "      <td>0.684729</td>\n",
              "      <td>0.709360</td>\n",
              "      <td>0.721675</td>\n",
              "    </tr>\n",
              "    <tr>\n",
              "      <th>1993-03-05</th>\n",
              "      <td>0.684729</td>\n",
              "      <td>0.709360</td>\n",
              "      <td>0.714286</td>\n",
              "      <td>0.709360</td>\n",
              "    </tr>\n",
              "  </tbody>\n",
              "</table>\n",
              "</div>\n",
              "      <button class=\"colab-df-convert\" onclick=\"convertToInteractive('df-67ff511f-21af-4ac0-981f-c284465d2c5b')\"\n",
              "              title=\"Convert this dataframe to an interactive table.\"\n",
              "              style=\"display:none;\">\n",
              "        \n",
              "  <svg xmlns=\"http://www.w3.org/2000/svg\" height=\"24px\"viewBox=\"0 0 24 24\"\n",
              "       width=\"24px\">\n",
              "    <path d=\"M0 0h24v24H0V0z\" fill=\"none\"/>\n",
              "    <path d=\"M18.56 5.44l.94 2.06.94-2.06 2.06-.94-2.06-.94-.94-2.06-.94 2.06-2.06.94zm-11 1L8.5 8.5l.94-2.06 2.06-.94-2.06-.94L8.5 2.5l-.94 2.06-2.06.94zm10 10l.94 2.06.94-2.06 2.06-.94-2.06-.94-.94-2.06-.94 2.06-2.06.94z\"/><path d=\"M17.41 7.96l-1.37-1.37c-.4-.4-.92-.59-1.43-.59-.52 0-1.04.2-1.43.59L10.3 9.45l-7.72 7.72c-.78.78-.78 2.05 0 2.83L4 21.41c.39.39.9.59 1.41.59.51 0 1.02-.2 1.41-.59l7.78-7.78 2.81-2.81c.8-.78.8-2.07 0-2.86zM5.41 20L4 18.59l7.72-7.72 1.47 1.35L5.41 20z\"/>\n",
              "  </svg>\n",
              "      </button>\n",
              "      \n",
              "  <style>\n",
              "    .colab-df-container {\n",
              "      display:flex;\n",
              "      flex-wrap:wrap;\n",
              "      gap: 12px;\n",
              "    }\n",
              "\n",
              "    .colab-df-convert {\n",
              "      background-color: #E8F0FE;\n",
              "      border: none;\n",
              "      border-radius: 50%;\n",
              "      cursor: pointer;\n",
              "      display: none;\n",
              "      fill: #1967D2;\n",
              "      height: 32px;\n",
              "      padding: 0 0 0 0;\n",
              "      width: 32px;\n",
              "    }\n",
              "\n",
              "    .colab-df-convert:hover {\n",
              "      background-color: #E2EBFA;\n",
              "      box-shadow: 0px 1px 2px rgba(60, 64, 67, 0.3), 0px 1px 3px 1px rgba(60, 64, 67, 0.15);\n",
              "      fill: #174EA6;\n",
              "    }\n",
              "\n",
              "    [theme=dark] .colab-df-convert {\n",
              "      background-color: #3B4455;\n",
              "      fill: #D2E3FC;\n",
              "    }\n",
              "\n",
              "    [theme=dark] .colab-df-convert:hover {\n",
              "      background-color: #434B5C;\n",
              "      box-shadow: 0px 1px 3px 1px rgba(0, 0, 0, 0.15);\n",
              "      filter: drop-shadow(0px 1px 2px rgba(0, 0, 0, 0.3));\n",
              "      fill: #FFFFFF;\n",
              "    }\n",
              "  </style>\n",
              "\n",
              "      <script>\n",
              "        const buttonEl =\n",
              "          document.querySelector('#df-67ff511f-21af-4ac0-981f-c284465d2c5b button.colab-df-convert');\n",
              "        buttonEl.style.display =\n",
              "          google.colab.kernel.accessAllowed ? 'block' : 'none';\n",
              "\n",
              "        async function convertToInteractive(key) {\n",
              "          const element = document.querySelector('#df-67ff511f-21af-4ac0-981f-c284465d2c5b');\n",
              "          const dataTable =\n",
              "            await google.colab.kernel.invokeFunction('convertToInteractive',\n",
              "                                                     [key], {});\n",
              "          if (!dataTable) return;\n",
              "\n",
              "          const docLinkHtml = 'Like what you see? Visit the ' +\n",
              "            '<a target=\"_blank\" href=https://colab.research.google.com/notebooks/data_table.ipynb>data table notebook</a>'\n",
              "            + ' to learn more about interactive tables.';\n",
              "          element.innerHTML = '';\n",
              "          dataTable['output_type'] = 'display_data';\n",
              "          await google.colab.output.renderOutput(dataTable, element);\n",
              "          const docLink = document.createElement('div');\n",
              "          docLink.innerHTML = docLinkHtml;\n",
              "          element.appendChild(docLink);\n",
              "        }\n",
              "      </script>\n",
              "    </div>\n",
              "  </div>\n",
              "  "
            ]
          },
          "metadata": {},
          "execution_count": 8
        }
      ]
    },
    {
      "cell_type": "code",
      "source": [
        "nn_df.dropna(axis=0, inplace=True)\n",
        "nn_df.head() #removed all the NaN values"
      ],
      "metadata": {
        "colab": {
          "base_uri": "https://localhost:8080/",
          "height": 206
        },
        "id": "VrnfI1TgnhwE",
        "outputId": "7c9ae4e0-9d43-45a2-a214-d440db548e50"
      },
      "execution_count": 9,
      "outputs": [
        {
          "output_type": "execute_result",
          "data": {
            "text/plain": [
              "                   0         1         2     label\n",
              "1993-03-01  0.640394  0.650246  0.672414  0.684729\n",
              "1993-03-02  0.650246  0.672414  0.689655  0.709360\n",
              "1993-03-03  0.672414  0.689655  0.684729  0.714286\n",
              "1993-03-04  0.689655  0.684729  0.709360  0.721675\n",
              "1993-03-05  0.684729  0.709360  0.714286  0.709360"
            ],
            "text/html": [
              "\n",
              "  <div id=\"df-6ea8cda0-2ca4-4ba7-ab09-29a91c98d0fe\">\n",
              "    <div class=\"colab-df-container\">\n",
              "      <div>\n",
              "<style scoped>\n",
              "    .dataframe tbody tr th:only-of-type {\n",
              "        vertical-align: middle;\n",
              "    }\n",
              "\n",
              "    .dataframe tbody tr th {\n",
              "        vertical-align: top;\n",
              "    }\n",
              "\n",
              "    .dataframe thead th {\n",
              "        text-align: right;\n",
              "    }\n",
              "</style>\n",
              "<table border=\"1\" class=\"dataframe\">\n",
              "  <thead>\n",
              "    <tr style=\"text-align: right;\">\n",
              "      <th></th>\n",
              "      <th>0</th>\n",
              "      <th>1</th>\n",
              "      <th>2</th>\n",
              "      <th>label</th>\n",
              "    </tr>\n",
              "  </thead>\n",
              "  <tbody>\n",
              "    <tr>\n",
              "      <th>1993-03-01</th>\n",
              "      <td>0.640394</td>\n",
              "      <td>0.650246</td>\n",
              "      <td>0.672414</td>\n",
              "      <td>0.684729</td>\n",
              "    </tr>\n",
              "    <tr>\n",
              "      <th>1993-03-02</th>\n",
              "      <td>0.650246</td>\n",
              "      <td>0.672414</td>\n",
              "      <td>0.689655</td>\n",
              "      <td>0.709360</td>\n",
              "    </tr>\n",
              "    <tr>\n",
              "      <th>1993-03-03</th>\n",
              "      <td>0.672414</td>\n",
              "      <td>0.689655</td>\n",
              "      <td>0.684729</td>\n",
              "      <td>0.714286</td>\n",
              "    </tr>\n",
              "    <tr>\n",
              "      <th>1993-03-04</th>\n",
              "      <td>0.689655</td>\n",
              "      <td>0.684729</td>\n",
              "      <td>0.709360</td>\n",
              "      <td>0.721675</td>\n",
              "    </tr>\n",
              "    <tr>\n",
              "      <th>1993-03-05</th>\n",
              "      <td>0.684729</td>\n",
              "      <td>0.709360</td>\n",
              "      <td>0.714286</td>\n",
              "      <td>0.709360</td>\n",
              "    </tr>\n",
              "  </tbody>\n",
              "</table>\n",
              "</div>\n",
              "      <button class=\"colab-df-convert\" onclick=\"convertToInteractive('df-6ea8cda0-2ca4-4ba7-ab09-29a91c98d0fe')\"\n",
              "              title=\"Convert this dataframe to an interactive table.\"\n",
              "              style=\"display:none;\">\n",
              "        \n",
              "  <svg xmlns=\"http://www.w3.org/2000/svg\" height=\"24px\"viewBox=\"0 0 24 24\"\n",
              "       width=\"24px\">\n",
              "    <path d=\"M0 0h24v24H0V0z\" fill=\"none\"/>\n",
              "    <path d=\"M18.56 5.44l.94 2.06.94-2.06 2.06-.94-2.06-.94-.94-2.06-.94 2.06-2.06.94zm-11 1L8.5 8.5l.94-2.06 2.06-.94-2.06-.94L8.5 2.5l-.94 2.06-2.06.94zm10 10l.94 2.06.94-2.06 2.06-.94-2.06-.94-.94-2.06-.94 2.06-2.06.94z\"/><path d=\"M17.41 7.96l-1.37-1.37c-.4-.4-.92-.59-1.43-.59-.52 0-1.04.2-1.43.59L10.3 9.45l-7.72 7.72c-.78.78-.78 2.05 0 2.83L4 21.41c.39.39.9.59 1.41.59.51 0 1.02-.2 1.41-.59l7.78-7.78 2.81-2.81c.8-.78.8-2.07 0-2.86zM5.41 20L4 18.59l7.72-7.72 1.47 1.35L5.41 20z\"/>\n",
              "  </svg>\n",
              "      </button>\n",
              "      \n",
              "  <style>\n",
              "    .colab-df-container {\n",
              "      display:flex;\n",
              "      flex-wrap:wrap;\n",
              "      gap: 12px;\n",
              "    }\n",
              "\n",
              "    .colab-df-convert {\n",
              "      background-color: #E8F0FE;\n",
              "      border: none;\n",
              "      border-radius: 50%;\n",
              "      cursor: pointer;\n",
              "      display: none;\n",
              "      fill: #1967D2;\n",
              "      height: 32px;\n",
              "      padding: 0 0 0 0;\n",
              "      width: 32px;\n",
              "    }\n",
              "\n",
              "    .colab-df-convert:hover {\n",
              "      background-color: #E2EBFA;\n",
              "      box-shadow: 0px 1px 2px rgba(60, 64, 67, 0.3), 0px 1px 3px 1px rgba(60, 64, 67, 0.15);\n",
              "      fill: #174EA6;\n",
              "    }\n",
              "\n",
              "    [theme=dark] .colab-df-convert {\n",
              "      background-color: #3B4455;\n",
              "      fill: #D2E3FC;\n",
              "    }\n",
              "\n",
              "    [theme=dark] .colab-df-convert:hover {\n",
              "      background-color: #434B5C;\n",
              "      box-shadow: 0px 1px 3px 1px rgba(0, 0, 0, 0.15);\n",
              "      filter: drop-shadow(0px 1px 2px rgba(0, 0, 0, 0.3));\n",
              "      fill: #FFFFFF;\n",
              "    }\n",
              "  </style>\n",
              "\n",
              "      <script>\n",
              "        const buttonEl =\n",
              "          document.querySelector('#df-6ea8cda0-2ca4-4ba7-ab09-29a91c98d0fe button.colab-df-convert');\n",
              "        buttonEl.style.display =\n",
              "          google.colab.kernel.accessAllowed ? 'block' : 'none';\n",
              "\n",
              "        async function convertToInteractive(key) {\n",
              "          const element = document.querySelector('#df-6ea8cda0-2ca4-4ba7-ab09-29a91c98d0fe');\n",
              "          const dataTable =\n",
              "            await google.colab.kernel.invokeFunction('convertToInteractive',\n",
              "                                                     [key], {});\n",
              "          if (!dataTable) return;\n",
              "\n",
              "          const docLinkHtml = 'Like what you see? Visit the ' +\n",
              "            '<a target=\"_blank\" href=https://colab.research.google.com/notebooks/data_table.ipynb>data table notebook</a>'\n",
              "            + ' to learn more about interactive tables.';\n",
              "          element.innerHTML = '';\n",
              "          dataTable['output_type'] = 'display_data';\n",
              "          await google.colab.output.renderOutput(dataTable, element);\n",
              "          const docLink = document.createElement('div');\n",
              "          docLink.innerHTML = docLinkHtml;\n",
              "          element.appendChild(docLink);\n",
              "        }\n",
              "      </script>\n",
              "    </div>\n",
              "  </div>\n",
              "  "
            ]
          },
          "metadata": {},
          "execution_count": 9
        }
      ]
    },
    {
      "cell_type": "code",
      "source": [
        "train_label=nn_df.label.values# separating training and test sets\n",
        "train_data=nn_df.drop('label',axis=1).values\n",
        "print(train_data.shape)\n",
        "train_data=train_data.reshape(-1,n_ts,1)\n",
        "print(train_data.shape)\n",
        "print(train_label.shape)"
      ],
      "metadata": {
        "colab": {
          "base_uri": "https://localhost:8080/"
        },
        "id": "u2p6hM1znpfE",
        "outputId": "b164200e-407b-4bf1-fc79-db46d0b146e7"
      },
      "execution_count": 10,
      "outputs": [
        {
          "output_type": "stream",
          "name": "stdout",
          "text": [
            "(6269, 3)\n",
            "(6269, 3, 1)\n",
            "(6269,)\n"
          ]
        }
      ]
    },
    {
      "cell_type": "code",
      "source": [
        "test_data=train_data[-1000:]\n",
        "test_label=train_label[-1000:]\n",
        "train_data=train_data[:-1000]\n",
        "train_label=train_label[:-1000]\n",
        "\n",
        "from sklearn.model_selection import train_test_split\n",
        "train_data, val_data, train_label, val_label = train_test_split(train_data, train_label, random_state = 0)\n",
        "print(train_data.shape)"
      ],
      "metadata": {
        "colab": {
          "base_uri": "https://localhost:8080/"
        },
        "id": "1MZrHf3QnsX0",
        "outputId": "f15801b5-b181-47aa-f17b-382e760d31dd"
      },
      "execution_count": 11,
      "outputs": [
        {
          "output_type": "stream",
          "name": "stdout",
          "text": [
            "(3951, 3, 1)\n"
          ]
        }
      ]
    },
    {
      "cell_type": "code",
      "source": [
        "model=keras.models.Sequential()\n",
        "model.add(keras.layers.LSTM(80,input_shape=(n_ts,1),return_sequences=True)) # LSTM layer with 80 neurons\n",
        "model.add(keras.layers.LSTM(60,activation='linear'))\n",
        "model.add(keras.layers.Dense(40,activation='linear'))\n",
        "\n",
        "model.add(keras.layers.Dense(20,activation='linear'))\n",
        "model.add(keras.layers.Dense(1,activation='linear'))\n",
        "model.compile(loss='mean_squared_error',optimizer='adam')\n",
        "model.summary()"
      ],
      "metadata": {
        "colab": {
          "base_uri": "https://localhost:8080/"
        },
        "id": "X5O--ai_nshM",
        "outputId": "5b2ca1a6-159b-4eb3-fad1-ac1b0c6f6bb5"
      },
      "execution_count": 12,
      "outputs": [
        {
          "output_type": "stream",
          "name": "stderr",
          "text": [
            "WARNING:tensorflow:Layer lstm_1 will not use cuDNN kernels since it doesn't meet the criteria. It will use a generic GPU kernel as fallback when running on GPU.\n"
          ]
        },
        {
          "output_type": "stream",
          "name": "stdout",
          "text": [
            "Model: \"sequential\"\n",
            "_________________________________________________________________\n",
            " Layer (type)                Output Shape              Param #   \n",
            "=================================================================\n",
            " lstm (LSTM)                 (None, 3, 80)             26240     \n",
            "                                                                 \n",
            " lstm_1 (LSTM)               (None, 60)                33840     \n",
            "                                                                 \n",
            " dense (Dense)               (None, 40)                2440      \n",
            "                                                                 \n",
            " dense_1 (Dense)             (None, 20)                820       \n",
            "                                                                 \n",
            " dense_2 (Dense)             (None, 1)                 21        \n",
            "                                                                 \n",
            "=================================================================\n",
            "Total params: 63,361\n",
            "Trainable params: 63,361\n",
            "Non-trainable params: 0\n",
            "_________________________________________________________________\n"
          ]
        }
      ]
    },
    {
      "cell_type": "code",
      "source": [
        "history=model.fit(train_data,train_label,epochs=10,batch_size=10,verbose=1,validation_data=(val_data,val_label))"
      ],
      "metadata": {
        "colab": {
          "base_uri": "https://localhost:8080/"
        },
        "id": "zPSyz5hRnx8E",
        "outputId": "5c732567-2b3a-4c11-a9b7-e86039dcb055"
      },
      "execution_count": 13,
      "outputs": [
        {
          "output_type": "stream",
          "name": "stdout",
          "text": [
            "Epoch 1/10\n",
            "396/396 [==============================] - 16s 17ms/step - loss: 0.0148 - val_loss: 0.0036\n",
            "Epoch 2/10\n",
            "396/396 [==============================] - 5s 13ms/step - loss: 0.0039 - val_loss: 0.0036\n",
            "Epoch 3/10\n",
            "396/396 [==============================] - 9s 24ms/step - loss: 0.0039 - val_loss: 0.0035\n",
            "Epoch 4/10\n",
            "396/396 [==============================] - 11s 28ms/step - loss: 0.0037 - val_loss: 0.0036\n",
            "Epoch 5/10\n",
            "396/396 [==============================] - 5s 12ms/step - loss: 0.0037 - val_loss: 0.0049\n",
            "Epoch 6/10\n",
            "396/396 [==============================] - 6s 14ms/step - loss: 0.0037 - val_loss: 0.0050\n",
            "Epoch 7/10\n",
            "396/396 [==============================] - 5s 13ms/step - loss: 0.0036 - val_loss: 0.0037\n",
            "Epoch 8/10\n",
            "396/396 [==============================] - 5s 13ms/step - loss: 0.0034 - val_loss: 0.0038\n",
            "Epoch 9/10\n",
            "396/396 [==============================] - 6s 16ms/step - loss: 0.0035 - val_loss: 0.0032\n",
            "Epoch 10/10\n",
            "396/396 [==============================] - 5s 13ms/step - loss: 0.0034 - val_loss: 0.0032\n"
          ]
        }
      ]
    },
    {
      "cell_type": "code",
      "source": [
        "fig,ax=plt.subplots()\n",
        "ax.plot(history.history['loss'], label='train_loss')\n",
        "ax.plot(history.history['val_loss'], label='val_loss')\n",
        "ax.set_title = 'Loss of the model'\n",
        "ax.xlabel = 'Time (Epochs)'\n",
        "ax.ylabel = 'Loss'\n",
        "ax.legend()"
      ],
      "metadata": {
        "colab": {
          "base_uri": "https://localhost:8080/",
          "height": 282
        },
        "id": "Alpfzbq1oSl0",
        "outputId": "56ff50a1-87a9-4e12-e620-aa1cb260f60b"
      },
      "execution_count": 18,
      "outputs": [
        {
          "output_type": "execute_result",
          "data": {
            "text/plain": [
              "<matplotlib.legend.Legend at 0x7fd89de91d90>"
            ]
          },
          "metadata": {},
          "execution_count": 18
        },
        {
          "output_type": "display_data",
          "data": {
            "text/plain": [
              "<Figure size 432x288 with 1 Axes>"
            ],
            "image/png": "[encoded data removed]"
          },
          "metadata": {
            "needs_background": "light"
          }
        }
      ]
    },
    {
      "cell_type": "code",
      "source": [
        "test_predict=model.predict(test_data)\n",
        "fig,ax=plt.subplots()\n",
        "ax.plot(test_label,label=\"True Test Data\")\n",
        "ax.plot(test_predict[offset:],label=\"Predicted Data\",linewidth=2.5)\n",
        "ax.set_title(\"Prediction vs Reality\")\n",
        "ax.set_xlabel(\"Sample\")\n",
        "ax.set_ylabel(\"Normalised tmax\")\n",
        "ax.legend()\n"
      ],
      "metadata": {
        "colab": {
          "base_uri": "https://localhost:8080/",
          "height": 330
        },
        "id": "rQpJnHCpoYn0",
        "outputId": "cb8f3480-7347-4c25-ab61-926420ae3495"
      },
      "execution_count": 19,
      "outputs": [
        {
          "output_type": "stream",
          "name": "stdout",
          "text": [
            "32/32 [==============================] - 1s 3ms/step\n"
          ]
        },
        {
          "output_type": "execute_result",
          "data": {
            "text/plain": [
              "<matplotlib.legend.Legend at 0x7fd920e19190>"
            ]
          },
          "metadata": {},
          "execution_count": 19
        },
        {
          "output_type": "display_data",
          "data": {
            "text/plain": [
              "<Figure size 432x288 with 1 Axes>"
            ],
            "image/png": "[encoded data removed]"
          },
          "metadata": {
            "needs_background": "light"
          }
        }
      ]
    },
    {
      "cell_type": "code",
      "source": [
        "from pandas import DatetimeIndex\n",
        "from numpy import datetime64, timedelta64\n",
        "\n",
        "def add_dates(existing_dates, num_days):\n",
        "    \"\"\"\n",
        "    Adds num_days to the last date in existing_dates and returns the updated DatetimeIndex.\n",
        "    \n",
        "    Parameters:\n",
        "        - existing_dates (DatetimeIndex): A DatetimeIndex object representing existing dates.\n",
        "        - num_days (int): The number of days to add to the last date in existing_dates.\n",
        "    \n",
        "    Returns:\n",
        "        - A DatetimeIndex object representing the updated list of dates.\n",
        "    \"\"\"\n",
        "    last_date = existing_dates[-1] if not existing_dates.empty else datetime64('now')\n",
        "    new_dates = []\n",
        "    for i in range(1, num_days + 1):\n",
        "        new_dates.append(datetime64(last_date, 'D')+timedelta64(i, 'D'))\n",
        "    new_dates_index = DatetimeIndex(new_dates, dtype=existing_dates.dtype, freq=existing_dates.freq)\n",
        "    return existing_dates.append(new_dates_index)\n",
        "\n"
      ],
      "metadata": {
        "id": "xZitRBmVEzze"
      },
      "execution_count": 20,
      "outputs": []
    },
    {
      "cell_type": "code",
      "source": [
        "future=add_dates(files.index,1)\n",
        "print(future)\n",
        "print(files.index)"
      ],
      "metadata": {
        "colab": {
          "base_uri": "https://localhost:8080/"
        },
        "id": "hWWV91KnE8Vk",
        "outputId": "ad090831-50d3-4aed-f4e5-0ee04c7d9ffd"
      },
      "execution_count": 21,
      "outputs": [
        {
          "output_type": "stream",
          "name": "stdout",
          "text": [
            "DatetimeIndex(['1993-02-24', '1993-02-25', '1993-02-26', '1993-02-27',\n",
            "               '1993-02-28', '1993-03-01', '1993-03-02', '1993-03-03',\n",
            "               '1993-03-04', '1993-03-05',\n",
            "               ...\n",
            "               '2020-11-05', '2020-11-06', '2020-11-07', '2020-11-08',\n",
            "               '2020-11-09', '2020-11-10', '2020-11-11', '2020-11-12',\n",
            "               '2020-11-13', '2020-11-14'],\n",
            "              dtype='datetime64[ns]', length=10001, freq=None)\n",
            "DatetimeIndex(['1993-02-24', '1993-02-25', '1993-02-26', '1993-02-27',\n",
            "               '1993-02-28', '1993-03-01', '1993-03-02', '1993-03-03',\n",
            "               '1993-03-04', '1993-03-05',\n",
            "               ...\n",
            "               '2020-11-04', '2020-11-05', '2020-11-06', '2020-11-07',\n",
            "               '2020-11-08', '2020-11-09', '2020-11-10', '2020-11-11',\n",
            "               '2020-11-12', '2020-11-13'],\n",
            "              dtype='datetime64[ns]', length=10000, freq=None)\n"
          ]
        }
      ]
    },
    {
      "cell_type": "code",
      "execution_count": 24,
      "metadata": {
        "id": "UJt6IL7tKHvx",
        "colab": {
          "base_uri": "https://localhost:8080/",
          "height": 347
        },
        "outputId": "988c00be-25e5-4097-af68-36c1ac8f2112"
      },
      "outputs": [
        {
          "output_type": "stream",
          "name": "stdout",
          "text": [
            "(999, 1)\n",
            "32/32 [==============================] - 0s 3ms/step\n"
          ]
        },
        {
          "output_type": "execute_result",
          "data": {
            "text/plain": [
              "(17585.0, 18580.0)"
            ]
          },
          "metadata": {},
          "execution_count": 24
        },
        {
          "output_type": "display_data",
          "data": {
            "text/plain": [
              "<Figure size 432x288 with 1 Axes>"
            ],
            "image/png": "[encoded data removed]"
          },
          "metadata": {
            "needs_background": "light"
          }
        }
      ],
      "source": [
        "fig,ax=plt.subplots()\n",
        "print(np.shape(test_predict[offset:]))\n",
        "ax.plot(files.index,files.TMAX,label=\"True Test Data\")\n",
        "test_predict_future = model.predict(test_data)\n",
        "ax.plot(future[-1000:], test_predict_future,label=\"Predicted Data\")\n",
        "ax.set_title(\"Prediction vs Reality\")\n",
        "ax.set_xlabel(\"date\")\n",
        "ax.set_ylabel(\"40.6 x degree celsius\")\n",
        "ax.legend()\n",
        "plt.xlim([future[-1000:][10], future[-1000:][-1]])"
      ]
    },
    {
      "cell_type": "code",
      "source": [
        "print(files.index[-1])"
      ],
      "metadata": {
        "id": "mq2fcS9QyuAj"
      },
      "execution_count": null,
      "outputs": []
    },
    {
      "cell_type": "code",
      "source": [
        "print((test_predict[-5:])*40.6)"
      ],
      "metadata": {
        "colab": {
          "base_uri": "https://localhost:8080/"
        },
        "id": "m7Q2Yh_y4LTw",
        "outputId": "4d9a314e-efcd-4af4-edd5-3ae69c4c332b"
      },
      "execution_count": 26,
      "outputs": [
        {
          "output_type": "stream",
          "name": "stdout",
          "text": [
            "[[24.77201 ]\n",
            " [24.503551]\n",
            " [24.255499]\n",
            " [24.601685]\n",
            " [23.92452 ]]\n"
          ]
        }
      ]
    },
    {
      "cell_type": "markdown",
      "source": [
        "### **PREDCTING TMIN**"
      ],
      "metadata": {
        "id": "-T_WiBQ35fd6"
      }
    },
    {
      "cell_type": "code",
      "source": [
        "print(files.TMIN.max()/10)"
      ],
      "metadata": {
        "colab": {
          "base_uri": "https://localhost:8080/"
        },
        "id": "DZ3S7cYw5d_C",
        "outputId": "0d6082bb-d2ae-4745-b21a-16409f34db7c"
      },
      "execution_count": 27,
      "outputs": [
        {
          "output_type": "stream",
          "name": "stdout",
          "text": [
            "29.0\n"
          ]
        }
      ]
    },
    {
      "cell_type": "code",
      "source": [
        "files.TMIN=files.TMIN/files.TMIN.max()\n",
        "offset=1\n",
        "n_ts2=3 #Number of values in a time sequence\n",
        "nn_df1=make_timeseqs(files.TMIN,n_ts2,offset) #6 samples per row for training, offset of 0 (so next sample)\n",
        "nn_df1.head(10)"
      ],
      "metadata": {
        "id": "6Ih258Jn5vg9"
      },
      "execution_count": null,
      "outputs": []
    },
    {
      "cell_type": "code",
      "source": [
        "nn_df1.dropna(axis=0, inplace=True)\n",
        "nn_df1.head()"
      ],
      "metadata": {
        "colab": {
          "base_uri": "https://localhost:8080/",
          "height": 206
        },
        "id": "J-kRyJoy5vpE",
        "outputId": "d7577243-9766-41ca-dcfc-536d9c903119"
      },
      "execution_count": 29,
      "outputs": [
        {
          "output_type": "execute_result",
          "data": {
            "text/plain": [
              "                   0         1         2     label\n",
              "1993-02-27  0.334483  0.331034  0.382759  0.475862\n",
              "1993-03-07  0.479310  0.517241  0.441379  0.534483\n",
              "1993-03-24  0.503448  0.551724  0.534483  0.603448\n",
              "1993-03-25  0.551724  0.534483  0.551724  0.617241\n",
              "1993-03-26  0.534483  0.551724  0.603448  0.600000"
            ],
            "text/html": [
              "\n",
              "  <div id=\"df-f7e06014-ebbd-4c6a-98d8-0747bcf86738\">\n",
              "    <div class=\"colab-df-container\">\n",
              "      <div>\n",
              "<style scoped>\n",
              "    .dataframe tbody tr th:only-of-type {\n",
              "        vertical-align: middle;\n",
              "    }\n",
              "\n",
              "    .dataframe tbody tr th {\n",
              "        vertical-align: top;\n",
              "    }\n",
              "\n",
              "    .dataframe thead th {\n",
              "        text-align: right;\n",
              "    }\n",
              "</style>\n",
              "<table border=\"1\" class=\"dataframe\">\n",
              "  <thead>\n",
              "    <tr style=\"text-align: right;\">\n",
              "      <th></th>\n",
              "      <th>0</th>\n",
              "      <th>1</th>\n",
              "      <th>2</th>\n",
              "      <th>label</th>\n",
              "    </tr>\n",
              "  </thead>\n",
              "  <tbody>\n",
              "    <tr>\n",
              "      <th>1993-02-27</th>\n",
              "      <td>0.334483</td>\n",
              "      <td>0.331034</td>\n",
              "      <td>0.382759</td>\n",
              "      <td>0.475862</td>\n",
              "    </tr>\n",
              "    <tr>\n",
              "      <th>1993-03-07</th>\n",
              "      <td>0.479310</td>\n",
              "      <td>0.517241</td>\n",
              "      <td>0.441379</td>\n",
              "      <td>0.534483</td>\n",
              "    </tr>\n",
              "    <tr>\n",
              "      <th>1993-03-24</th>\n",
              "      <td>0.503448</td>\n",
              "      <td>0.551724</td>\n",
              "      <td>0.534483</td>\n",
              "      <td>0.603448</td>\n",
              "    </tr>\n",
              "    <tr>\n",
              "      <th>1993-03-25</th>\n",
              "      <td>0.551724</td>\n",
              "      <td>0.534483</td>\n",
              "      <td>0.551724</td>\n",
              "      <td>0.617241</td>\n",
              "    </tr>\n",
              "    <tr>\n",
              "      <th>1993-03-26</th>\n",
              "      <td>0.534483</td>\n",
              "      <td>0.551724</td>\n",
              "      <td>0.603448</td>\n",
              "      <td>0.600000</td>\n",
              "    </tr>\n",
              "  </tbody>\n",
              "</table>\n",
              "</div>\n",
              "      <button class=\"colab-df-convert\" onclick=\"convertToInteractive('df-f7e06014-ebbd-4c6a-98d8-0747bcf86738')\"\n",
              "              title=\"Convert this dataframe to an interactive table.\"\n",
              "              style=\"display:none;\">\n",
              "        \n",
              "  <svg xmlns=\"http://www.w3.org/2000/svg\" height=\"24px\"viewBox=\"0 0 24 24\"\n",
              "       width=\"24px\">\n",
              "    <path d=\"M0 0h24v24H0V0z\" fill=\"none\"/>\n",
              "    <path d=\"M18.56 5.44l.94 2.06.94-2.06 2.06-.94-2.06-.94-.94-2.06-.94 2.06-2.06.94zm-11 1L8.5 8.5l.94-2.06 2.06-.94-2.06-.94L8.5 2.5l-.94 2.06-2.06.94zm10 10l.94 2.06.94-2.06 2.06-.94-2.06-.94-.94-2.06-.94 2.06-2.06.94z\"/><path d=\"M17.41 7.96l-1.37-1.37c-.4-.4-.92-.59-1.43-.59-.52 0-1.04.2-1.43.59L10.3 9.45l-7.72 7.72c-.78.78-.78 2.05 0 2.83L4 21.41c.39.39.9.59 1.41.59.51 0 1.02-.2 1.41-.59l7.78-7.78 2.81-2.81c.8-.78.8-2.07 0-2.86zM5.41 20L4 18.59l7.72-7.72 1.47 1.35L5.41 20z\"/>\n",
              "  </svg>\n",
              "      </button>\n",
              "      \n",
              "  <style>\n",
              "    .colab-df-container {\n",
              "      display:flex;\n",
              "      flex-wrap:wrap;\n",
              "      gap: 12px;\n",
              "    }\n",
              "\n",
              "    .colab-df-convert {\n",
              "      background-color: #E8F0FE;\n",
              "      border: none;\n",
              "      border-radius: 50%;\n",
              "      cursor: pointer;\n",
              "      display: none;\n",
              "      fill: #1967D2;\n",
              "      height: 32px;\n",
              "      padding: 0 0 0 0;\n",
              "      width: 32px;\n",
              "    }\n",
              "\n",
              "    .colab-df-convert:hover {\n",
              "      background-color: #E2EBFA;\n",
              "      box-shadow: 0px 1px 2px rgba(60, 64, 67, 0.3), 0px 1px 3px 1px rgba(60, 64, 67, 0.15);\n",
              "      fill: #174EA6;\n",
              "    }\n",
              "\n",
              "    [theme=dark] .colab-df-convert {\n",
              "      background-color: #3B4455;\n",
              "      fill: #D2E3FC;\n",
              "    }\n",
              "\n",
              "    [theme=dark] .colab-df-convert:hover {\n",
              "      background-color: #434B5C;\n",
              "      box-shadow: 0px 1px 3px 1px rgba(0, 0, 0, 0.15);\n",
              "      filter: drop-shadow(0px 1px 2px rgba(0, 0, 0, 0.3));\n",
              "      fill: #FFFFFF;\n",
              "    }\n",
              "  </style>\n",
              "\n",
              "      <script>\n",
              "        const buttonEl =\n",
              "          document.querySelector('#df-f7e06014-ebbd-4c6a-98d8-0747bcf86738 button.colab-df-convert');\n",
              "        buttonEl.style.display =\n",
              "          google.colab.kernel.accessAllowed ? 'block' : 'none';\n",
              "\n",
              "        async function convertToInteractive(key) {\n",
              "          const element = document.querySelector('#df-f7e06014-ebbd-4c6a-98d8-0747bcf86738');\n",
              "          const dataTable =\n",
              "            await google.colab.kernel.invokeFunction('convertToInteractive',\n",
              "                                                     [key], {});\n",
              "          if (!dataTable) return;\n",
              "\n",
              "          const docLinkHtml = 'Like what you see? Visit the ' +\n",
              "            '<a target=\"_blank\" href=https://colab.research.google.com/notebooks/data_table.ipynb>data table notebook</a>'\n",
              "            + ' to learn more about interactive tables.';\n",
              "          element.innerHTML = '';\n",
              "          dataTable['output_type'] = 'display_data';\n",
              "          await google.colab.output.renderOutput(dataTable, element);\n",
              "          const docLink = document.createElement('div');\n",
              "          docLink.innerHTML = docLinkHtml;\n",
              "          element.appendChild(docLink);\n",
              "        }\n",
              "      </script>\n",
              "    </div>\n",
              "  </div>\n",
              "  "
            ]
          },
          "metadata": {},
          "execution_count": 29
        }
      ]
    },
    {
      "cell_type": "code",
      "source": [
        "train_label1=nn_df1.label.values\n",
        "train_data1=nn_df1.drop('label',axis=1).values\n",
        "print(train_data1.shape)\n",
        "train_data1=train_data1.reshape(-1,n_ts2,1)\n",
        "print(train_data1.shape)\n",
        "print(train_label1.shape)"
      ],
      "metadata": {
        "colab": {
          "base_uri": "https://localhost:8080/"
        },
        "id": "MdtTVrhH5vxs",
        "outputId": "8ed92051-a339-4bac-9e9c-34433e3a6c2a"
      },
      "execution_count": 30,
      "outputs": [
        {
          "output_type": "stream",
          "name": "stdout",
          "text": [
            "(5593, 3)\n",
            "(5593, 3, 1)\n",
            "(5593,)\n"
          ]
        }
      ]
    },
    {
      "cell_type": "code",
      "source": [
        "test_data1=train_data1[-1000:]\n",
        "test_label1=train_label1[-1000:]\n",
        "train_data1=train_data1[:-1000]\n",
        "train_label1=train_label1[:-1000]\n",
        "\n",
        "from sklearn.model_selection import train_test_split\n",
        "train_data1, val_data1, train_label1, val_label1 = train_test_split(train_data1, train_label1, random_state = 0)\n",
        "print(train_data1.shape)"
      ],
      "metadata": {
        "colab": {
          "base_uri": "https://localhost:8080/"
        },
        "id": "blEf49EM5wHT",
        "outputId": "b9b18d7f-2d1c-4ab0-cb41-3db9fc5b6745"
      },
      "execution_count": 31,
      "outputs": [
        {
          "output_type": "stream",
          "name": "stdout",
          "text": [
            "(3444, 3, 1)\n"
          ]
        }
      ]
    },
    {
      "cell_type": "code",
      "source": [
        "history1=model.fit(train_data1,train_label1,epochs=10,batch_size=10,verbose=1,validation_data=(val_data1,val_label1))"
      ],
      "metadata": {
        "colab": {
          "base_uri": "https://localhost:8080/"
        },
        "id": "gj8wZ1ep6p1-",
        "outputId": "12988069-7819-4568-dc34-9733b39623ab"
      },
      "execution_count": 32,
      "outputs": [
        {
          "output_type": "stream",
          "name": "stdout",
          "text": [
            "Epoch 1/10\n",
            "345/345 [==============================] - 6s 17ms/step - loss: 0.0027 - val_loss: 0.0023\n",
            "Epoch 2/10\n",
            "345/345 [==============================] - 5s 14ms/step - loss: 0.0026 - val_loss: 0.0026\n",
            "Epoch 3/10\n",
            "345/345 [==============================] - 5s 16ms/step - loss: 0.0026 - val_loss: 0.0024\n",
            "Epoch 4/10\n",
            "345/345 [==============================] - 4s 13ms/step - loss: 0.0026 - val_loss: 0.0025\n",
            "Epoch 5/10\n",
            "345/345 [==============================] - 4s 13ms/step - loss: 0.0026 - val_loss: 0.0025\n",
            "Epoch 6/10\n",
            "345/345 [==============================] - 5s 16ms/step - loss: 0.0027 - val_loss: 0.0025\n",
            "Epoch 7/10\n",
            "345/345 [==============================] - 4s 13ms/step - loss: 0.0026 - val_loss: 0.0023\n",
            "Epoch 8/10\n",
            "345/345 [==============================] - 6s 16ms/step - loss: 0.0025 - val_loss: 0.0024\n",
            "Epoch 9/10\n",
            "345/345 [==============================] - 5s 13ms/step - loss: 0.0025 - val_loss: 0.0024\n",
            "Epoch 10/10\n",
            "345/345 [==============================] - 5s 15ms/step - loss: 0.0026 - val_loss: 0.0023\n"
          ]
        }
      ]
    },
    {
      "cell_type": "code",
      "source": [
        "fig,ax=plt.subplots()\n",
        "ax.plot(history1.history['loss'], label='train_loss')\n",
        "ax.plot(history1.history['val_loss'], label='val_loss')\n",
        "ax.set_title = 'Loss of the model'\n",
        "ax.xlabel = 'Time (Epochs)'\n",
        "ax.ylabel = 'Loss'\n",
        "ax.legend()"
      ],
      "metadata": {
        "colab": {
          "base_uri": "https://localhost:8080/",
          "height": 282
        },
        "id": "qcb_OQEe6p8c",
        "outputId": "d888e605-2d09-471f-e4a7-a018224201b5"
      },
      "execution_count": 33,
      "outputs": [
        {
          "output_type": "execute_result",
          "data": {
            "text/plain": [
              "<matplotlib.legend.Legend at 0x7fd89db956d0>"
            ]
          },
          "metadata": {},
          "execution_count": 33
        },
        {
          "output_type": "display_data",
          "data": {
            "text/plain": [
              "<Figure size 432x288 with 1 Axes>"
            ],
            "image/png": "[encoded data removed]"
          },
          "metadata": {
            "needs_background": "light"
          }
        }
      ]
    },
    {
      "cell_type": "code",
      "source": [
        "test_predict1=model.predict(test_data1)\n",
        "fig,ax=plt.subplots()\n",
        "ax.plot(test_label1,label=\"True Test Data\")\n",
        "ax.plot(test_predict1[offset:],label=\"Predicted Data\",linewidth=2)\n",
        "ax.set_title(\"Prediction vs Reality\")\n",
        "ax.set_xlabel(\"Sample\")\n",
        "ax.set_ylabel(\"Normalised tmin\")\n",
        "ax.legend()"
      ],
      "metadata": {
        "colab": {
          "base_uri": "https://localhost:8080/",
          "height": 330
        },
        "id": "WxqXZjSi82Rq",
        "outputId": "499e5956-8b2e-423e-eb53-cbe90d907788"
      },
      "execution_count": 34,
      "outputs": [
        {
          "output_type": "stream",
          "name": "stdout",
          "text": [
            "32/32 [==============================] - 0s 3ms/step\n"
          ]
        },
        {
          "output_type": "execute_result",
          "data": {
            "text/plain": [
              "<matplotlib.legend.Legend at 0x7fd89d36ebe0>"
            ]
          },
          "metadata": {},
          "execution_count": 34
        },
        {
          "output_type": "display_data",
          "data": {
            "text/plain": [
              "<Figure size 432x288 with 1 Axes>"
            ],
            "image/png": "[encoded data removed]"
          },
          "metadata": {
            "needs_background": "light"
          }
        }
      ]
    },
    {
      "cell_type": "code",
      "source": [
        "fig,ax=plt.subplots()\n",
        "print(np.shape(test_predict[offset:]))\n",
        "ax.plot(files.index,files.TMIN,label=\"True Test Data\")\n",
        "test_predict_future1 = model.predict(test_data1)\n",
        "ax.plot(future[-1000:], test_predict_future1,label=\"Predicted Data\")\n",
        "ax.set_title(\"Prediction vs Reality\")\n",
        "ax.set_xlabel(\"date\")\n",
        "ax.set_ylabel(\"290 x degree celsius\")\n",
        "ax.legend()\n",
        "plt.xlim([future[-1000:][5], future[-1000:][-1]])"
      ],
      "metadata": {
        "colab": {
          "base_uri": "https://localhost:8080/",
          "height": 347
        },
        "id": "mCOAS1eo6p_x",
        "outputId": "1b71cd40-d8ef-4b09-b8ff-c085ef2214e7"
      },
      "execution_count": 35,
      "outputs": [
        {
          "output_type": "stream",
          "name": "stdout",
          "text": [
            "(999, 1)\n",
            "32/32 [==============================] - 0s 3ms/step\n"
          ]
        },
        {
          "output_type": "execute_result",
          "data": {
            "text/plain": [
              "(17580.0, 18580.0)"
            ]
          },
          "metadata": {},
          "execution_count": 35
        },
        {
          "output_type": "display_data",
          "data": {
            "text/plain": [
              "<Figure size 432x288 with 1 Axes>"
            ],
            "image/png": "[encoded data removed]"
          },
          "metadata": {
            "needs_background": "light"
          }
        }
      ]
    },
    {
      "cell_type": "code",
      "source": [
        "print(test_predict1[-5:]*290,)\n",
        "print(future[-1000:])\n",
        "print(files.index)"
      ],
      "metadata": {
        "colab": {
          "base_uri": "https://localhost:8080/"
        },
        "id": "U8YuXakr6qC4",
        "outputId": "e64b5ef3-5286-4ed0-e807-49ef199ec3ac"
      },
      "execution_count": 36,
      "outputs": [
        {
          "output_type": "stream",
          "name": "stdout",
          "text": [
            "[[234.29694]\n",
            " [171.12344]\n",
            " [172.40215]\n",
            " [172.5721 ]\n",
            " [171.2947 ]]\n",
            "DatetimeIndex(['2018-02-13', '2018-02-14', '2018-02-15', '2018-02-16',\n",
            "               '2018-02-17', '2018-02-18', '2018-02-19', '2018-02-20',\n",
            "               '2018-02-21', '2018-02-22',\n",
            "               ...\n",
            "               '2020-11-05', '2020-11-06', '2020-11-07', '2020-11-08',\n",
            "               '2020-11-09', '2020-11-10', '2020-11-11', '2020-11-12',\n",
            "               '2020-11-13', '2020-11-14'],\n",
            "              dtype='datetime64[ns]', length=1000, freq=None)\n",
            "DatetimeIndex(['1993-02-24', '1993-02-25', '1993-02-26', '1993-02-27',\n",
            "               '1993-02-28', '1993-03-01', '1993-03-02', '1993-03-03',\n",
            "               '1993-03-04', '1993-03-05',\n",
            "               ...\n",
            "               '2020-11-04', '2020-11-05', '2020-11-06', '2020-11-07',\n",
            "               '2020-11-08', '2020-11-09', '2020-11-10', '2020-11-11',\n",
            "               '2020-11-12', '2020-11-13'],\n",
            "              dtype='datetime64[ns]', length=10000, freq=None)\n"
          ]
        }
      ]
    },
    {
      "cell_type": "markdown",
      "source": [
        "## Predicting **prcp**"
      ],
      "metadata": {
        "id": "nEEFQ8RjxU7K"
      }
    },
    {
      "cell_type": "code",
      "source": [
        "print(files.PRCP.max())\n",
        "prcp_inter=files.PRCP/files.PRCP.max()\n",
        "\n",
        "offset=1\n",
        "n_ts3=3 #Number of values in a time sequence\n",
        "prcp=make_timeseqs(prcp_inter,n_ts3,offset) #6 samples per row for training, offset of 0 (so next sample)\n",
        "prcp.head(10)"
      ],
      "metadata": {
        "colab": {
          "base_uri": "https://localhost:8080/",
          "height": 380
        },
        "id": "O-9n0ShjxaPw",
        "outputId": "79e94ddd-572d-43be-dc54-383583a519eb"
      },
      "execution_count": 37,
      "outputs": [
        {
          "output_type": "stream",
          "name": "stdout",
          "text": [
            "2329.0\n"
          ]
        },
        {
          "output_type": "execute_result",
          "data": {
            "text/plain": [
              "              0    1    2  label\n",
              "1993-02-24  NaN  NaN  NaN    0.0\n",
              "1993-02-25  NaN  NaN  0.0    0.0\n",
              "1993-02-26  NaN  0.0  0.0    0.0\n",
              "1993-02-27  0.0  0.0  0.0    0.0\n",
              "1993-02-28  0.0  0.0  0.0    NaN\n",
              "1993-03-01  0.0  0.0  0.0    0.0\n",
              "1993-03-02  0.0  0.0  NaN    0.0\n",
              "1993-03-03  0.0  NaN  0.0    0.0\n",
              "1993-03-04  NaN  0.0  0.0    0.0\n",
              "1993-03-05  0.0  0.0  0.0    0.0"
            ],
            "text/html": [
              "\n",
              "  <div id=\"df-667c0ed9-ec4f-4b4c-83ab-8d7b6aca686a\">\n",
              "    <div class=\"colab-df-container\">\n",
              "      <div>\n",
              "<style scoped>\n",
              "    .dataframe tbody tr th:only-of-type {\n",
              "        vertical-align: middle;\n",
              "    }\n",
              "\n",
              "    .dataframe tbody tr th {\n",
              "        vertical-align: top;\n",
              "    }\n",
              "\n",
              "    .dataframe thead th {\n",
              "        text-align: right;\n",
              "    }\n",
              "</style>\n",
              "<table border=\"1\" class=\"dataframe\">\n",
              "  <thead>\n",
              "    <tr style=\"text-align: right;\">\n",
              "      <th></th>\n",
              "      <th>0</th>\n",
              "      <th>1</th>\n",
              "      <th>2</th>\n",
              "      <th>label</th>\n",
              "    </tr>\n",
              "  </thead>\n",
              "  <tbody>\n",
              "    <tr>\n",
              "      <th>1993-02-24</th>\n",
              "      <td>NaN</td>\n",
              "      <td>NaN</td>\n",
              "      <td>NaN</td>\n",
              "      <td>0.0</td>\n",
              "    </tr>\n",
              "    <tr>\n",
              "      <th>1993-02-25</th>\n",
              "      <td>NaN</td>\n",
              "      <td>NaN</td>\n",
              "      <td>0.0</td>\n",
              "      <td>0.0</td>\n",
              "    </tr>\n",
              "    <tr>\n",
              "      <th>1993-02-26</th>\n",
              "      <td>NaN</td>\n",
              "      <td>0.0</td>\n",
              "      <td>0.0</td>\n",
              "      <td>0.0</td>\n",
              "    </tr>\n",
              "    <tr>\n",
              "      <th>1993-02-27</th>\n",
              "      <td>0.0</td>\n",
              "      <td>0.0</td>\n",
              "      <td>0.0</td>\n",
              "      <td>0.0</td>\n",
              "    </tr>\n",
              "    <tr>\n",
              "      <th>1993-02-28</th>\n",
              "      <td>0.0</td>\n",
              "      <td>0.0</td>\n",
              "      <td>0.0</td>\n",
              "      <td>NaN</td>\n",
              "    </tr>\n",
              "    <tr>\n",
              "      <th>1993-03-01</th>\n",
              "      <td>0.0</td>\n",
              "      <td>0.0</td>\n",
              "      <td>0.0</td>\n",
              "      <td>0.0</td>\n",
              "    </tr>\n",
              "    <tr>\n",
              "      <th>1993-03-02</th>\n",
              "      <td>0.0</td>\n",
              "      <td>0.0</td>\n",
              "      <td>NaN</td>\n",
              "      <td>0.0</td>\n",
              "    </tr>\n",
              "    <tr>\n",
              "      <th>1993-03-03</th>\n",
              "      <td>0.0</td>\n",
              "      <td>NaN</td>\n",
              "      <td>0.0</td>\n",
              "      <td>0.0</td>\n",
              "    </tr>\n",
              "    <tr>\n",
              "      <th>1993-03-04</th>\n",
              "      <td>NaN</td>\n",
              "      <td>0.0</td>\n",
              "      <td>0.0</td>\n",
              "      <td>0.0</td>\n",
              "    </tr>\n",
              "    <tr>\n",
              "      <th>1993-03-05</th>\n",
              "      <td>0.0</td>\n",
              "      <td>0.0</td>\n",
              "      <td>0.0</td>\n",
              "      <td>0.0</td>\n",
              "    </tr>\n",
              "  </tbody>\n",
              "</table>\n",
              "</div>\n",
              "      <button class=\"colab-df-convert\" onclick=\"convertToInteractive('df-667c0ed9-ec4f-4b4c-83ab-8d7b6aca686a')\"\n",
              "              title=\"Convert this dataframe to an interactive table.\"\n",
              "              style=\"display:none;\">\n",
              "        \n",
              "  <svg xmlns=\"http://www.w3.org/2000/svg\" height=\"24px\"viewBox=\"0 0 24 24\"\n",
              "       width=\"24px\">\n",
              "    <path d=\"M0 0h24v24H0V0z\" fill=\"none\"/>\n",
              "    <path d=\"M18.56 5.44l.94 2.06.94-2.06 2.06-.94-2.06-.94-.94-2.06-.94 2.06-2.06.94zm-11 1L8.5 8.5l.94-2.06 2.06-.94-2.06-.94L8.5 2.5l-.94 2.06-2.06.94zm10 10l.94 2.06.94-2.06 2.06-.94-2.06-.94-.94-2.06-.94 2.06-2.06.94z\"/><path d=\"M17.41 7.96l-1.37-1.37c-.4-.4-.92-.59-1.43-.59-.52 0-1.04.2-1.43.59L10.3 9.45l-7.72 7.72c-.78.78-.78 2.05 0 2.83L4 21.41c.39.39.9.59 1.41.59.51 0 1.02-.2 1.41-.59l7.78-7.78 2.81-2.81c.8-.78.8-2.07 0-2.86zM5.41 20L4 18.59l7.72-7.72 1.47 1.35L5.41 20z\"/>\n",
              "  </svg>\n",
              "      </button>\n",
              "      \n",
              "  <style>\n",
              "    .colab-df-container {\n",
              "      display:flex;\n",
              "      flex-wrap:wrap;\n",
              "      gap: 12px;\n",
              "    }\n",
              "\n",
              "    .colab-df-convert {\n",
              "      background-color: #E8F0FE;\n",
              "      border: none;\n",
              "      border-radius: 50%;\n",
              "      cursor: pointer;\n",
              "      display: none;\n",
              "      fill: #1967D2;\n",
              "      height: 32px;\n",
              "      padding: 0 0 0 0;\n",
              "      width: 32px;\n",
              "    }\n",
              "\n",
              "    .colab-df-convert:hover {\n",
              "      background-color: #E2EBFA;\n",
              "      box-shadow: 0px 1px 2px rgba(60, 64, 67, 0.3), 0px 1px 3px 1px rgba(60, 64, 67, 0.15);\n",
              "      fill: #174EA6;\n",
              "    }\n",
              "\n",
              "    [theme=dark] .colab-df-convert {\n",
              "      background-color: #3B4455;\n",
              "      fill: #D2E3FC;\n",
              "    }\n",
              "\n",
              "    [theme=dark] .colab-df-convert:hover {\n",
              "      background-color: #434B5C;\n",
              "      box-shadow: 0px 1px 3px 1px rgba(0, 0, 0, 0.15);\n",
              "      filter: drop-shadow(0px 1px 2px rgba(0, 0, 0, 0.3));\n",
              "      fill: #FFFFFF;\n",
              "    }\n",
              "  </style>\n",
              "\n",
              "      <script>\n",
              "        const buttonEl =\n",
              "          document.querySelector('#df-667c0ed9-ec4f-4b4c-83ab-8d7b6aca686a button.colab-df-convert');\n",
              "        buttonEl.style.display =\n",
              "          google.colab.kernel.accessAllowed ? 'block' : 'none';\n",
              "\n",
              "        async function convertToInteractive(key) {\n",
              "          const element = document.querySelector('#df-667c0ed9-ec4f-4b4c-83ab-8d7b6aca686a');\n",
              "          const dataTable =\n",
              "            await google.colab.kernel.invokeFunction('convertToInteractive',\n",
              "                                                     [key], {});\n",
              "          if (!dataTable) return;\n",
              "\n",
              "          const docLinkHtml = 'Like what you see? Visit the ' +\n",
              "            '<a target=\"_blank\" href=https://colab.research.google.com/notebooks/data_table.ipynb>data table notebook</a>'\n",
              "            + ' to learn more about interactive tables.';\n",
              "          element.innerHTML = '';\n",
              "          dataTable['output_type'] = 'display_data';\n",
              "          await google.colab.output.renderOutput(dataTable, element);\n",
              "          const docLink = document.createElement('div');\n",
              "          docLink.innerHTML = docLinkHtml;\n",
              "          element.appendChild(docLink);\n",
              "        }\n",
              "      </script>\n",
              "    </div>\n",
              "  </div>\n",
              "  "
            ]
          },
          "metadata": {},
          "execution_count": 37
        }
      ]
    },
    {
      "cell_type": "code",
      "source": [
        "prcp.dropna(axis=0, inplace=True)\n",
        "prcp.head()"
      ],
      "metadata": {
        "colab": {
          "base_uri": "https://localhost:8080/",
          "height": 206
        },
        "id": "TW5smYoWxaV8",
        "outputId": "122332f8-6f15-493c-d2df-a36c2822c770"
      },
      "execution_count": 38,
      "outputs": [
        {
          "output_type": "execute_result",
          "data": {
            "text/plain": [
              "              0    1    2  label\n",
              "1993-02-27  0.0  0.0  0.0    0.0\n",
              "1993-03-01  0.0  0.0  0.0    0.0\n",
              "1993-03-05  0.0  0.0  0.0    0.0\n",
              "1993-03-06  0.0  0.0  0.0    0.0\n",
              "1993-03-07  0.0  0.0  0.0    0.0"
            ],
            "text/html": [
              "\n",
              "  <div id=\"df-622a87b5-9338-4f7c-812e-5c25bebb41f7\">\n",
              "    <div class=\"colab-df-container\">\n",
              "      <div>\n",
              "<style scoped>\n",
              "    .dataframe tbody tr th:only-of-type {\n",
              "        vertical-align: middle;\n",
              "    }\n",
              "\n",
              "    .dataframe tbody tr th {\n",
              "        vertical-align: top;\n",
              "    }\n",
              "\n",
              "    .dataframe thead th {\n",
              "        text-align: right;\n",
              "    }\n",
              "</style>\n",
              "<table border=\"1\" class=\"dataframe\">\n",
              "  <thead>\n",
              "    <tr style=\"text-align: right;\">\n",
              "      <th></th>\n",
              "      <th>0</th>\n",
              "      <th>1</th>\n",
              "      <th>2</th>\n",
              "      <th>label</th>\n",
              "    </tr>\n",
              "  </thead>\n",
              "  <tbody>\n",
              "    <tr>\n",
              "      <th>1993-02-27</th>\n",
              "      <td>0.0</td>\n",
              "      <td>0.0</td>\n",
              "      <td>0.0</td>\n",
              "      <td>0.0</td>\n",
              "    </tr>\n",
              "    <tr>\n",
              "      <th>1993-03-01</th>\n",
              "      <td>0.0</td>\n",
              "      <td>0.0</td>\n",
              "      <td>0.0</td>\n",
              "      <td>0.0</td>\n",
              "    </tr>\n",
              "    <tr>\n",
              "      <th>1993-03-05</th>\n",
              "      <td>0.0</td>\n",
              "      <td>0.0</td>\n",
              "      <td>0.0</td>\n",
              "      <td>0.0</td>\n",
              "    </tr>\n",
              "    <tr>\n",
              "      <th>1993-03-06</th>\n",
              "      <td>0.0</td>\n",
              "      <td>0.0</td>\n",
              "      <td>0.0</td>\n",
              "      <td>0.0</td>\n",
              "    </tr>\n",
              "    <tr>\n",
              "      <th>1993-03-07</th>\n",
              "      <td>0.0</td>\n",
              "      <td>0.0</td>\n",
              "      <td>0.0</td>\n",
              "      <td>0.0</td>\n",
              "    </tr>\n",
              "  </tbody>\n",
              "</table>\n",
              "</div>\n",
              "      <button class=\"colab-df-convert\" onclick=\"convertToInteractive('df-622a87b5-9338-4f7c-812e-5c25bebb41f7')\"\n",
              "              title=\"Convert this dataframe to an interactive table.\"\n",
              "              style=\"display:none;\">\n",
              "        \n",
              "  <svg xmlns=\"http://www.w3.org/2000/svg\" height=\"24px\"viewBox=\"0 0 24 24\"\n",
              "       width=\"24px\">\n",
              "    <path d=\"M0 0h24v24H0V0z\" fill=\"none\"/>\n",
              "    <path d=\"M18.56 5.44l.94 2.06.94-2.06 2.06-.94-2.06-.94-.94-2.06-.94 2.06-2.06.94zm-11 1L8.5 8.5l.94-2.06 2.06-.94-2.06-.94L8.5 2.5l-.94 2.06-2.06.94zm10 10l.94 2.06.94-2.06 2.06-.94-2.06-.94-.94-2.06-.94 2.06-2.06.94z\"/><path d=\"M17.41 7.96l-1.37-1.37c-.4-.4-.92-.59-1.43-.59-.52 0-1.04.2-1.43.59L10.3 9.45l-7.72 7.72c-.78.78-.78 2.05 0 2.83L4 21.41c.39.39.9.59 1.41.59.51 0 1.02-.2 1.41-.59l7.78-7.78 2.81-2.81c.8-.78.8-2.07 0-2.86zM5.41 20L4 18.59l7.72-7.72 1.47 1.35L5.41 20z\"/>\n",
              "  </svg>\n",
              "      </button>\n",
              "      \n",
              "  <style>\n",
              "    .colab-df-container {\n",
              "      display:flex;\n",
              "      flex-wrap:wrap;\n",
              "      gap: 12px;\n",
              "    }\n",
              "\n",
              "    .colab-df-convert {\n",
              "      background-color: #E8F0FE;\n",
              "      border: none;\n",
              "      border-radius: 50%;\n",
              "      cursor: pointer;\n",
              "      display: none;\n",
              "      fill: #1967D2;\n",
              "      height: 32px;\n",
              "      padding: 0 0 0 0;\n",
              "      width: 32px;\n",
              "    }\n",
              "\n",
              "    .colab-df-convert:hover {\n",
              "      background-color: #E2EBFA;\n",
              "      box-shadow: 0px 1px 2px rgba(60, 64, 67, 0.3), 0px 1px 3px 1px rgba(60, 64, 67, 0.15);\n",
              "      fill: #174EA6;\n",
              "    }\n",
              "\n",
              "    [theme=dark] .colab-df-convert {\n",
              "      background-color: #3B4455;\n",
              "      fill: #D2E3FC;\n",
              "    }\n",
              "\n",
              "    [theme=dark] .colab-df-convert:hover {\n",
              "      background-color: #434B5C;\n",
              "      box-shadow: 0px 1px 3px 1px rgba(0, 0, 0, 0.15);\n",
              "      filter: drop-shadow(0px 1px 2px rgba(0, 0, 0, 0.3));\n",
              "      fill: #FFFFFF;\n",
              "    }\n",
              "  </style>\n",
              "\n",
              "      <script>\n",
              "        const buttonEl =\n",
              "          document.querySelector('#df-622a87b5-9338-4f7c-812e-5c25bebb41f7 button.colab-df-convert');\n",
              "        buttonEl.style.display =\n",
              "          google.colab.kernel.accessAllowed ? 'block' : 'none';\n",
              "\n",
              "        async function convertToInteractive(key) {\n",
              "          const element = document.querySelector('#df-622a87b5-9338-4f7c-812e-5c25bebb41f7');\n",
              "          const dataTable =\n",
              "            await google.colab.kernel.invokeFunction('convertToInteractive',\n",
              "                                                     [key], {});\n",
              "          if (!dataTable) return;\n",
              "\n",
              "          const docLinkHtml = 'Like what you see? Visit the ' +\n",
              "            '<a target=\"_blank\" href=https://colab.research.google.com/notebooks/data_table.ipynb>data table notebook</a>'\n",
              "            + ' to learn more about interactive tables.';\n",
              "          element.innerHTML = '';\n",
              "          dataTable['output_type'] = 'display_data';\n",
              "          await google.colab.output.renderOutput(dataTable, element);\n",
              "          const docLink = document.createElement('div');\n",
              "          docLink.innerHTML = docLinkHtml;\n",
              "          element.appendChild(docLink);\n",
              "        }\n",
              "      </script>\n",
              "    </div>\n",
              "  </div>\n",
              "  "
            ]
          },
          "metadata": {},
          "execution_count": 38
        }
      ]
    },
    {
      "cell_type": "code",
      "source": [
        "train_prcpl=prcp.label.values\n",
        "train_prcp=prcp.drop('label',axis=1).values\n",
        "print(train_prcp.shape)\n",
        "train_prcp=train_prcp.reshape(-1,n_ts3,1)\n",
        "print(train_prcp.shape)\n",
        "print(train_prcpl.shape)"
      ],
      "metadata": {
        "colab": {
          "base_uri": "https://localhost:8080/"
        },
        "id": "Eiz20ezFxaYL",
        "outputId": "5765679d-fa06-4226-9504-65ff6867a6f5"
      },
      "execution_count": 39,
      "outputs": [
        {
          "output_type": "stream",
          "name": "stdout",
          "text": [
            "(3616, 3)\n",
            "(3616, 3, 1)\n",
            "(3616,)\n"
          ]
        }
      ]
    },
    {
      "cell_type": "code",
      "source": [
        "test_data1=train_prcp[-3000:]\n",
        "test_label1=train_prcpl[-3000:]\n",
        "train_data1=train_prcp[:-3000]\n",
        "train_label1=train_prcpl[:-3000]\n",
        "\n",
        "from sklearn.model_selection import train_test_split\n",
        "train_data1, val_data1, train_label1, val_label1 = train_test_split(train_data1, train_label1, random_state = 0)\n",
        "print(train_data1.shape)"
      ],
      "metadata": {
        "colab": {
          "base_uri": "https://localhost:8080/"
        },
        "id": "rxwREd4Hxaaa",
        "outputId": "9f5ba97f-dde1-4d07-adb4-cfe83962beee"
      },
      "execution_count": 40,
      "outputs": [
        {
          "output_type": "stream",
          "name": "stdout",
          "text": [
            "(462, 3, 1)\n"
          ]
        }
      ]
    },
    {
      "cell_type": "code",
      "source": [
        "history1=model.fit(train_data1,train_label1,epochs=10,batch_size=10,verbose=1,validation_data=(val_data1,val_label1))"
      ],
      "metadata": {
        "colab": {
          "base_uri": "https://localhost:8080/"
        },
        "id": "cKr-0jkvymtS",
        "outputId": "a61b5827-ea6a-4a0c-a63b-2b74883db2ea"
      },
      "execution_count": 41,
      "outputs": [
        {
          "output_type": "stream",
          "name": "stdout",
          "text": [
            "Epoch 1/10\n",
            "47/47 [==============================] - 1s 16ms/step - loss: 0.0070 - val_loss: 0.0064\n",
            "Epoch 2/10\n",
            "47/47 [==============================] - 1s 19ms/step - loss: 0.0064 - val_loss: 0.0061\n",
            "Epoch 3/10\n",
            "47/47 [==============================] - 1s 24ms/step - loss: 0.0070 - val_loss: 0.0061\n",
            "Epoch 4/10\n",
            "47/47 [==============================] - 1s 20ms/step - loss: 0.0063 - val_loss: 0.0061\n",
            "Epoch 5/10\n",
            "47/47 [==============================] - 1s 14ms/step - loss: 0.0062 - val_loss: 0.0060\n",
            "Epoch 6/10\n",
            "47/47 [==============================] - 1s 13ms/step - loss: 0.0062 - val_loss: 0.0061\n",
            "Epoch 7/10\n",
            "47/47 [==============================] - 1s 13ms/step - loss: 0.0061 - val_loss: 0.0060\n",
            "Epoch 8/10\n",
            "47/47 [==============================] - 1s 14ms/step - loss: 0.0061 - val_loss: 0.0059\n",
            "Epoch 9/10\n",
            "47/47 [==============================] - 1s 13ms/step - loss: 0.0062 - val_loss: 0.0060\n",
            "Epoch 10/10\n",
            "47/47 [==============================] - 1s 12ms/step - loss: 0.0060 - val_loss: 0.0060\n"
          ]
        }
      ]
    },
    {
      "cell_type": "code",
      "source": [
        "fig,ax=plt.subplots()\n",
        "ax.plot(history1.history['loss'], label='train_loss')\n",
        "ax.plot(history1.history['val_loss'], label='val_loss')\n",
        "ax.set_title = 'Loss of the model'\n",
        "ax.xlabel = 'Time (Epochs)'\n",
        "ax.ylabel = 'Loss'\n",
        "ax.legend()"
      ],
      "metadata": {
        "colab": {
          "base_uri": "https://localhost:8080/",
          "height": 282
        },
        "id": "7qlxNdqMym8n",
        "outputId": "1302494f-b301-4f04-986c-d3f06f26e34f"
      },
      "execution_count": 42,
      "outputs": [
        {
          "output_type": "execute_result",
          "data": {
            "text/plain": [
              "<matplotlib.legend.Legend at 0x7fd89da75430>"
            ]
          },
          "metadata": {},
          "execution_count": 42
        },
        {
          "output_type": "display_data",
          "data": {
            "text/plain": [
              "<Figure size 432x288 with 1 Axes>"
            ],
            "image/png": "[encoded data removed]"
          },
          "metadata": {
            "needs_background": "light"
          }
        }
      ]
    },
    {
      "cell_type": "code",
      "source": [
        "test_predict1=model.predict(test_data1)\n",
        "fig,ax=plt.subplots()\n",
        "ax.plot(test_label1,label=\"True Test Data\")\n",
        "ax.plot(test_predict1[offset:],label=\"Predicted Data\",linewidth=2)\n",
        "\n",
        "ax.set_title(\"Prediction vs Reality\")\n",
        "ax.set_xlabel(\"Sample\")\n",
        "ax.set_ylabel(\"Normalised prcp\")\n",
        "ax.legend()"
      ],
      "metadata": {
        "colab": {
          "base_uri": "https://localhost:8080/",
          "height": 330
        },
        "id": "KkfEiS7IynBU",
        "outputId": "8c50fa84-391c-4c01-a7f4-6b4b75c2047a"
      },
      "execution_count": 43,
      "outputs": [
        {
          "output_type": "stream",
          "name": "stdout",
          "text": [
            "94/94 [==============================] - 0s 3ms/step\n"
          ]
        },
        {
          "output_type": "execute_result",
          "data": {
            "text/plain": [
              "<matplotlib.legend.Legend at 0x7fd89d9d27c0>"
            ]
          },
          "metadata": {},
          "execution_count": 43
        },
        {
          "output_type": "display_data",
          "data": {
            "text/plain": [
              "<Figure size 432x288 with 1 Axes>"
            ],
            "image/png": "[encoded data removed]"
          },
          "metadata": {
            "needs_background": "light"
          }
        }
      ]
    },
    {
      "cell_type": "code",
      "source": [
        "fig,ax=plt.subplots()\n",
        "print(np.shape(test_predict1[offset:]))\n",
        "ax.plot(files.index,files.PRCP,label=\"True Test Data\")\n",
        "test_predict_future1 = model.predict(test_data1)\n",
        "ax.plot(future[-3000:], test_predict_future1,label=\"Predicted Data\")\n",
        "ax.set_title(\"Prediction vs Reality\")\n",
        "ax.set_xlabel(\"date\")\n",
        "ax.set_ylabel(\"PRCP (mm)\")\n",
        "ax.legend()\n",
        "plt.xlim([future[-3000:][5], future[-3000:][-1]])"
      ],
      "metadata": {
        "colab": {
          "base_uri": "https://localhost:8080/",
          "height": 347
        },
        "id": "ZQ3xcJe_zfgH",
        "outputId": "94c15bc6-4b4d-484f-80f3-f12ec7b34d5c"
      },
      "execution_count": 44,
      "outputs": [
        {
          "output_type": "stream",
          "name": "stdout",
          "text": [
            "(2999, 1)\n",
            "94/94 [==============================] - 0s 3ms/step\n"
          ]
        },
        {
          "output_type": "execute_result",
          "data": {
            "text/plain": [
              "(15559.0, 18580.0)"
            ]
          },
          "metadata": {},
          "execution_count": 44
        },
        {
          "output_type": "display_data",
          "data": {
            "text/plain": [
              "<Figure size 432x288 with 1 Axes>"
            ],
            "image/png": "[encoded data removed]"
          },
          "metadata": {
            "needs_background": "light"
          }
        }
      ]
    },
    {
      "cell_type": "code",
      "source": [
        "print(test_predict1[-5:]*2329)\n",
        "print(future)"
      ],
      "metadata": {
        "colab": {
          "base_uri": "https://localhost:8080/"
        },
        "id": "uiOQ-xyKzgGJ",
        "outputId": "52ef01f2-c793-4a37-d845-268f343e206d"
      },
      "execution_count": 45,
      "outputs": [
        {
          "output_type": "stream",
          "name": "stdout",
          "text": [
            "[[ 76.566505]\n",
            " [161.50096 ]\n",
            " [128.03612 ]\n",
            " [107.44078 ]\n",
            " [119.601616]]\n",
            "DatetimeIndex(['1993-02-24', '1993-02-25', '1993-02-26', '1993-02-27',\n",
            "               '1993-02-28', '1993-03-01', '1993-03-02', '1993-03-03',\n",
            "               '1993-03-04', '1993-03-05',\n",
            "               ...\n",
            "               '2020-11-05', '2020-11-06', '2020-11-07', '2020-11-08',\n",
            "               '2020-11-09', '2020-11-10', '2020-11-11', '2020-11-12',\n",
            "               '2020-11-13', '2020-11-14'],\n",
            "              dtype='datetime64[ns]', length=10001, freq=None)\n"
          ]
        }
      ]
    },
    {
      "cell_type": "markdown",
      "source": [
        "###  **WEEKLY CLIMATE, PREDICITNG PRCP 1 YEAR IN FUTURE** "
      ],
      "metadata": {
        "id": "Yp1vBUt5H3W9"
      }
    },
    {
      "cell_type": "code",
      "source": [
        "\n",
        "\n",
        "import pandas as pd\n",
        "from datetime import datetime\n",
        "\n",
        "# Read in the daily data as a pandas dataframe\n",
        "df_daily = files\n",
        "\n",
        "# Group the data by week and take the mean/sum/median of the values for that week\n",
        "df_weekly = df_daily.resample('W').mean() # Change 'sum' to 'mean' or 'median' based on your requirement\n",
        "\n",
        "# Create a new dataframe with the weekly data\n",
        "df=pd.DataFrame(df_weekly)\n",
        "print(df)\n",
        "\n",
        "\n",
        "future_week=add_dates(files.index, 365)\n",
        "\n",
        "\n",
        "\n"
      ],
      "metadata": {
        "colab": {
          "base_uri": "https://localhost:8080/"
        },
        "id": "0sypYOGFoogu",
        "outputId": "df8bfa82-765a-4707-9e23-784a6276a50e"
      },
      "execution_count": 46,
      "outputs": [
        {
          "output_type": "stream",
          "name": "stdout",
          "text": [
            "DATE              PRCP        TAVG      TMAX      TMIN\n",
            "1993-02-28    0.000000  182.400000  0.635468  0.381034\n",
            "1993-03-07    0.000000  211.142857  0.704082  0.491724\n",
            "1993-03-14    0.000000  219.714286  0.733169  0.520690\n",
            "1993-03-21    0.000000  223.000000  0.712526  0.558621\n",
            "1993-03-28   96.285714  205.285714  0.616585  0.576437\n",
            "...                ...         ...       ...       ...\n",
            "2020-10-18         NaN  304.000000  0.879310  0.864943\n",
            "2020-10-25  263.000000  274.428571       NaN  0.814483\n",
            "2020-11-01    0.000000  276.571429       NaN  0.799507\n",
            "2020-11-08         NaN  253.714286       NaN  0.676552\n",
            "2020-11-15         NaN  242.800000       NaN  0.586897\n",
            "\n",
            "[1447 rows x 4 columns]\n"
          ]
        }
      ]
    },
    {
      "cell_type": "code",
      "source": [
        "df.TMIN=df.TMIN\n",
        "offset=52\n",
        "n=3 #Number of values in a time sequence\n",
        "nn_df1=make_timeseqs(df.TMIN,n,offset) #6 samples per row for training, offset of 0 (so next sample)\n",
        "nn_df1.head(10)"
      ],
      "metadata": {
        "colab": {
          "base_uri": "https://localhost:8080/",
          "height": 363
        },
        "id": "HpIxadyGpRsn",
        "outputId": "e0e6e388-9307-49d5-da50-ccf980df247a"
      },
      "execution_count": 47,
      "outputs": [
        {
          "output_type": "execute_result",
          "data": {
            "text/plain": [
              "                   0         1         2     label\n",
              "1993-02-28       NaN       NaN       NaN  0.432184\n",
              "1993-03-07       NaN       NaN  0.381034  0.464943\n",
              "1993-03-14       NaN  0.381034  0.491724  0.491133\n",
              "1993-03-21  0.381034  0.491724  0.520690  0.636207\n",
              "1993-03-28  0.491724  0.520690  0.558621  0.636782\n",
              "1993-04-04  0.520690  0.558621  0.576437  0.634483\n",
              "1993-04-11  0.558621  0.576437  0.523153  0.696552\n",
              "1993-04-18  0.576437  0.523153  0.617241  0.653793\n",
              "1993-04-25  0.523153  0.617241  0.669540  0.661494\n",
              "1993-05-02  0.617241  0.669540  0.701149  0.715517"
            ],
            "text/html": [
              "\n",
              "  <div id=\"df-fb36212b-fbeb-4fc1-abfa-83fbfce1885d\">\n",
              "    <div class=\"colab-df-container\">\n",
              "      <div>\n",
              "<style scoped>\n",
              "    .dataframe tbody tr th:only-of-type {\n",
              "        vertical-align: middle;\n",
              "    }\n",
              "\n",
              "    .dataframe tbody tr th {\n",
              "        vertical-align: top;\n",
              "    }\n",
              "\n",
              "    .dataframe thead th {\n",
              "        text-align: right;\n",
              "    }\n",
              "</style>\n",
              "<table border=\"1\" class=\"dataframe\">\n",
              "  <thead>\n",
              "    <tr style=\"text-align: right;\">\n",
              "      <th></th>\n",
              "      <th>0</th>\n",
              "      <th>1</th>\n",
              "      <th>2</th>\n",
              "      <th>label</th>\n",
              "    </tr>\n",
              "  </thead>\n",
              "  <tbody>\n",
              "    <tr>\n",
              "      <th>1993-02-28</th>\n",
              "      <td>NaN</td>\n",
              "      <td>NaN</td>\n",
              "      <td>NaN</td>\n",
              "      <td>0.432184</td>\n",
              "    </tr>\n",
              "    <tr>\n",
              "      <th>1993-03-07</th>\n",
              "      <td>NaN</td>\n",
              "      <td>NaN</td>\n",
              "      <td>0.381034</td>\n",
              "      <td>0.464943</td>\n",
              "    </tr>\n",
              "    <tr>\n",
              "      <th>1993-03-14</th>\n",
              "      <td>NaN</td>\n",
              "      <td>0.381034</td>\n",
              "      <td>0.491724</td>\n",
              "      <td>0.491133</td>\n",
              "    </tr>\n",
              "    <tr>\n",
              "      <th>1993-03-21</th>\n",
              "      <td>0.381034</td>\n",
              "      <td>0.491724</td>\n",
              "      <td>0.520690</td>\n",
              "      <td>0.636207</td>\n",
              "    </tr>\n",
              "    <tr>\n",
              "      <th>1993-03-28</th>\n",
              "      <td>0.491724</td>\n",
              "      <td>0.520690</td>\n",
              "      <td>0.558621</td>\n",
              "      <td>0.636782</td>\n",
              "    </tr>\n",
              "    <tr>\n",
              "      <th>1993-04-04</th>\n",
              "      <td>0.520690</td>\n",
              "      <td>0.558621</td>\n",
              "      <td>0.576437</td>\n",
              "      <td>0.634483</td>\n",
              "    </tr>\n",
              "    <tr>\n",
              "      <th>1993-04-11</th>\n",
              "      <td>0.558621</td>\n",
              "      <td>0.576437</td>\n",
              "      <td>0.523153</td>\n",
              "      <td>0.696552</td>\n",
              "    </tr>\n",
              "    <tr>\n",
              "      <th>1993-04-18</th>\n",
              "      <td>0.576437</td>\n",
              "      <td>0.523153</td>\n",
              "      <td>0.617241</td>\n",
              "      <td>0.653793</td>\n",
              "    </tr>\n",
              "    <tr>\n",
              "      <th>1993-04-25</th>\n",
              "      <td>0.523153</td>\n",
              "      <td>0.617241</td>\n",
              "      <td>0.669540</td>\n",
              "      <td>0.661494</td>\n",
              "    </tr>\n",
              "    <tr>\n",
              "      <th>1993-05-02</th>\n",
              "      <td>0.617241</td>\n",
              "      <td>0.669540</td>\n",
              "      <td>0.701149</td>\n",
              "      <td>0.715517</td>\n",
              "    </tr>\n",
              "  </tbody>\n",
              "</table>\n",
              "</div>\n",
              "      <button class=\"colab-df-convert\" onclick=\"convertToInteractive('df-fb36212b-fbeb-4fc1-abfa-83fbfce1885d')\"\n",
              "              title=\"Convert this dataframe to an interactive table.\"\n",
              "              style=\"display:none;\">\n",
              "        \n",
              "  <svg xmlns=\"http://www.w3.org/2000/svg\" height=\"24px\"viewBox=\"0 0 24 24\"\n",
              "       width=\"24px\">\n",
              "    <path d=\"M0 0h24v24H0V0z\" fill=\"none\"/>\n",
              "    <path d=\"M18.56 5.44l.94 2.06.94-2.06 2.06-.94-2.06-.94-.94-2.06-.94 2.06-2.06.94zm-11 1L8.5 8.5l.94-2.06 2.06-.94-2.06-.94L8.5 2.5l-.94 2.06-2.06.94zm10 10l.94 2.06.94-2.06 2.06-.94-2.06-.94-.94-2.06-.94 2.06-2.06.94z\"/><path d=\"M17.41 7.96l-1.37-1.37c-.4-.4-.92-.59-1.43-.59-.52 0-1.04.2-1.43.59L10.3 9.45l-7.72 7.72c-.78.78-.78 2.05 0 2.83L4 21.41c.39.39.9.59 1.41.59.51 0 1.02-.2 1.41-.59l7.78-7.78 2.81-2.81c.8-.78.8-2.07 0-2.86zM5.41 20L4 18.59l7.72-7.72 1.47 1.35L5.41 20z\"/>\n",
              "  </svg>\n",
              "      </button>\n",
              "      \n",
              "  <style>\n",
              "    .colab-df-container {\n",
              "      display:flex;\n",
              "      flex-wrap:wrap;\n",
              "      gap: 12px;\n",
              "    }\n",
              "\n",
              "    .colab-df-convert {\n",
              "      background-color: #E8F0FE;\n",
              "      border: none;\n",
              "      border-radius: 50%;\n",
              "      cursor: pointer;\n",
              "      display: none;\n",
              "      fill: #1967D2;\n",
              "      height: 32px;\n",
              "      padding: 0 0 0 0;\n",
              "      width: 32px;\n",
              "    }\n",
              "\n",
              "    .colab-df-convert:hover {\n",
              "      background-color: #E2EBFA;\n",
              "      box-shadow: 0px 1px 2px rgba(60, 64, 67, 0.3), 0px 1px 3px 1px rgba(60, 64, 67, 0.15);\n",
              "      fill: #174EA6;\n",
              "    }\n",
              "\n",
              "    [theme=dark] .colab-df-convert {\n",
              "      background-color: #3B4455;\n",
              "      fill: #D2E3FC;\n",
              "    }\n",
              "\n",
              "    [theme=dark] .colab-df-convert:hover {\n",
              "      background-color: #434B5C;\n",
              "      box-shadow: 0px 1px 3px 1px rgba(0, 0, 0, 0.15);\n",
              "      filter: drop-shadow(0px 1px 2px rgba(0, 0, 0, 0.3));\n",
              "      fill: #FFFFFF;\n",
              "    }\n",
              "  </style>\n",
              "\n",
              "      <script>\n",
              "        const buttonEl =\n",
              "          document.querySelector('#df-fb36212b-fbeb-4fc1-abfa-83fbfce1885d button.colab-df-convert');\n",
              "        buttonEl.style.display =\n",
              "          google.colab.kernel.accessAllowed ? 'block' : 'none';\n",
              "\n",
              "        async function convertToInteractive(key) {\n",
              "          const element = document.querySelector('#df-fb36212b-fbeb-4fc1-abfa-83fbfce1885d');\n",
              "          const dataTable =\n",
              "            await google.colab.kernel.invokeFunction('convertToInteractive',\n",
              "                                                     [key], {});\n",
              "          if (!dataTable) return;\n",
              "\n",
              "          const docLinkHtml = 'Like what you see? Visit the ' +\n",
              "            '<a target=\"_blank\" href=https://colab.research.google.com/notebooks/data_table.ipynb>data table notebook</a>'\n",
              "            + ' to learn more about interactive tables.';\n",
              "          element.innerHTML = '';\n",
              "          dataTable['output_type'] = 'display_data';\n",
              "          await google.colab.output.renderOutput(dataTable, element);\n",
              "          const docLink = document.createElement('div');\n",
              "          docLink.innerHTML = docLinkHtml;\n",
              "          element.appendChild(docLink);\n",
              "        }\n",
              "      </script>\n",
              "    </div>\n",
              "  </div>\n",
              "  "
            ]
          },
          "metadata": {},
          "execution_count": 47
        }
      ]
    },
    {
      "cell_type": "code",
      "source": [
        "nn_df1.dropna(axis=0, inplace=True)\n",
        "nn_df1.head()"
      ],
      "metadata": {
        "colab": {
          "base_uri": "https://localhost:8080/",
          "height": 206
        },
        "id": "Q5Tj58bCplGA",
        "outputId": "282d172e-dff3-4626-db37-cf8e2c7895fc"
      },
      "execution_count": 48,
      "outputs": [
        {
          "output_type": "execute_result",
          "data": {
            "text/plain": [
              "                   0         1         2     label\n",
              "1993-03-21  0.381034  0.491724  0.520690  0.636207\n",
              "1993-03-28  0.491724  0.520690  0.558621  0.636782\n",
              "1993-04-04  0.520690  0.558621  0.576437  0.634483\n",
              "1993-04-11  0.558621  0.576437  0.523153  0.696552\n",
              "1993-04-18  0.576437  0.523153  0.617241  0.653793"
            ],
            "text/html": [
              "\n",
              "  <div id=\"df-fceece0f-9497-4ec0-a05e-c35c4a13d0ef\">\n",
              "    <div class=\"colab-df-container\">\n",
              "      <div>\n",
              "<style scoped>\n",
              "    .dataframe tbody tr th:only-of-type {\n",
              "        vertical-align: middle;\n",
              "    }\n",
              "\n",
              "    .dataframe tbody tr th {\n",
              "        vertical-align: top;\n",
              "    }\n",
              "\n",
              "    .dataframe thead th {\n",
              "        text-align: right;\n",
              "    }\n",
              "</style>\n",
              "<table border=\"1\" class=\"dataframe\">\n",
              "  <thead>\n",
              "    <tr style=\"text-align: right;\">\n",
              "      <th></th>\n",
              "      <th>0</th>\n",
              "      <th>1</th>\n",
              "      <th>2</th>\n",
              "      <th>label</th>\n",
              "    </tr>\n",
              "  </thead>\n",
              "  <tbody>\n",
              "    <tr>\n",
              "      <th>1993-03-21</th>\n",
              "      <td>0.381034</td>\n",
              "      <td>0.491724</td>\n",
              "      <td>0.520690</td>\n",
              "      <td>0.636207</td>\n",
              "    </tr>\n",
              "    <tr>\n",
              "      <th>1993-03-28</th>\n",
              "      <td>0.491724</td>\n",
              "      <td>0.520690</td>\n",
              "      <td>0.558621</td>\n",
              "      <td>0.636782</td>\n",
              "    </tr>\n",
              "    <tr>\n",
              "      <th>1993-04-04</th>\n",
              "      <td>0.520690</td>\n",
              "      <td>0.558621</td>\n",
              "      <td>0.576437</td>\n",
              "      <td>0.634483</td>\n",
              "    </tr>\n",
              "    <tr>\n",
              "      <th>1993-04-11</th>\n",
              "      <td>0.558621</td>\n",
              "      <td>0.576437</td>\n",
              "      <td>0.523153</td>\n",
              "      <td>0.696552</td>\n",
              "    </tr>\n",
              "    <tr>\n",
              "      <th>1993-04-18</th>\n",
              "      <td>0.576437</td>\n",
              "      <td>0.523153</td>\n",
              "      <td>0.617241</td>\n",
              "      <td>0.653793</td>\n",
              "    </tr>\n",
              "  </tbody>\n",
              "</table>\n",
              "</div>\n",
              "      <button class=\"colab-df-convert\" onclick=\"convertToInteractive('df-fceece0f-9497-4ec0-a05e-c35c4a13d0ef')\"\n",
              "              title=\"Convert this dataframe to an interactive table.\"\n",
              "              style=\"display:none;\">\n",
              "        \n",
              "  <svg xmlns=\"http://www.w3.org/2000/svg\" height=\"24px\"viewBox=\"0 0 24 24\"\n",
              "       width=\"24px\">\n",
              "    <path d=\"M0 0h24v24H0V0z\" fill=\"none\"/>\n",
              "    <path d=\"M18.56 5.44l.94 2.06.94-2.06 2.06-.94-2.06-.94-.94-2.06-.94 2.06-2.06.94zm-11 1L8.5 8.5l.94-2.06 2.06-.94-2.06-.94L8.5 2.5l-.94 2.06-2.06.94zm10 10l.94 2.06.94-2.06 2.06-.94-2.06-.94-.94-2.06-.94 2.06-2.06.94z\"/><path d=\"M17.41 7.96l-1.37-1.37c-.4-.4-.92-.59-1.43-.59-.52 0-1.04.2-1.43.59L10.3 9.45l-7.72 7.72c-.78.78-.78 2.05 0 2.83L4 21.41c.39.39.9.59 1.41.59.51 0 1.02-.2 1.41-.59l7.78-7.78 2.81-2.81c.8-.78.8-2.07 0-2.86zM5.41 20L4 18.59l7.72-7.72 1.47 1.35L5.41 20z\"/>\n",
              "  </svg>\n",
              "      </button>\n",
              "      \n",
              "  <style>\n",
              "    .colab-df-container {\n",
              "      display:flex;\n",
              "      flex-wrap:wrap;\n",
              "      gap: 12px;\n",
              "    }\n",
              "\n",
              "    .colab-df-convert {\n",
              "      background-color: #E8F0FE;\n",
              "      border: none;\n",
              "      border-radius: 50%;\n",
              "      cursor: pointer;\n",
              "      display: none;\n",
              "      fill: #1967D2;\n",
              "      height: 32px;\n",
              "      padding: 0 0 0 0;\n",
              "      width: 32px;\n",
              "    }\n",
              "\n",
              "    .colab-df-convert:hover {\n",
              "      background-color: #E2EBFA;\n",
              "      box-shadow: 0px 1px 2px rgba(60, 64, 67, 0.3), 0px 1px 3px 1px rgba(60, 64, 67, 0.15);\n",
              "      fill: #174EA6;\n",
              "    }\n",
              "\n",
              "    [theme=dark] .colab-df-convert {\n",
              "      background-color: #3B4455;\n",
              "      fill: #D2E3FC;\n",
              "    }\n",
              "\n",
              "    [theme=dark] .colab-df-convert:hover {\n",
              "      background-color: #434B5C;\n",
              "      box-shadow: 0px 1px 3px 1px rgba(0, 0, 0, 0.15);\n",
              "      filter: drop-shadow(0px 1px 2px rgba(0, 0, 0, 0.3));\n",
              "      fill: #FFFFFF;\n",
              "    }\n",
              "  </style>\n",
              "\n",
              "      <script>\n",
              "        const buttonEl =\n",
              "          document.querySelector('#df-fceece0f-9497-4ec0-a05e-c35c4a13d0ef button.colab-df-convert');\n",
              "        buttonEl.style.display =\n",
              "          google.colab.kernel.accessAllowed ? 'block' : 'none';\n",
              "\n",
              "        async function convertToInteractive(key) {\n",
              "          const element = document.querySelector('#df-fceece0f-9497-4ec0-a05e-c35c4a13d0ef');\n",
              "          const dataTable =\n",
              "            await google.colab.kernel.invokeFunction('convertToInteractive',\n",
              "                                                     [key], {});\n",
              "          if (!dataTable) return;\n",
              "\n",
              "          const docLinkHtml = 'Like what you see? Visit the ' +\n",
              "            '<a target=\"_blank\" href=https://colab.research.google.com/notebooks/data_table.ipynb>data table notebook</a>'\n",
              "            + ' to learn more about interactive tables.';\n",
              "          element.innerHTML = '';\n",
              "          dataTable['output_type'] = 'display_data';\n",
              "          await google.colab.output.renderOutput(dataTable, element);\n",
              "          const docLink = document.createElement('div');\n",
              "          docLink.innerHTML = docLinkHtml;\n",
              "          element.appendChild(docLink);\n",
              "        }\n",
              "      </script>\n",
              "    </div>\n",
              "  </div>\n",
              "  "
            ]
          },
          "metadata": {},
          "execution_count": 48
        }
      ]
    },
    {
      "cell_type": "code",
      "source": [
        "model=keras.models.Sequential()\n",
        "model.add(keras.layers.LSTM(80,input_shape=(n,1),return_sequences=True)) # LSTM layer with 50 neurons\n",
        "model.add(keras.layers.LSTM(60,activation='linear'))\n",
        "model.add(keras.layers.Dense(40,activation='linear'))\n",
        "model.add(keras.layers.Dense(20,activation='linear'))\n",
        "model.add(keras.layers.Dense(1,activation='linear'))\n",
        "model.compile(loss='mean_squared_error',optimizer='adam')\n",
        "model.summary()"
      ],
      "metadata": {
        "id": "4msINuGLIjf0",
        "colab": {
          "base_uri": "https://localhost:8080/"
        },
        "outputId": "7cccfdd5-766b-4064-a83f-ed45d0ab600a"
      },
      "execution_count": 49,
      "outputs": [
        {
          "output_type": "stream",
          "name": "stderr",
          "text": [
            "WARNING:tensorflow:Layer lstm_3 will not use cuDNN kernels since it doesn't meet the criteria. It will use a generic GPU kernel as fallback when running on GPU.\n"
          ]
        },
        {
          "output_type": "stream",
          "name": "stdout",
          "text": [
            "Model: \"sequential_1\"\n",
            "_________________________________________________________________\n",
            " Layer (type)                Output Shape              Param #   \n",
            "=================================================================\n",
            " lstm_2 (LSTM)               (None, 3, 80)             26240     \n",
            "                                                                 \n",
            " lstm_3 (LSTM)               (None, 60)                33840     \n",
            "                                                                 \n",
            " dense_3 (Dense)             (None, 40)                2440      \n",
            "                                                                 \n",
            " dense_4 (Dense)             (None, 20)                820       \n",
            "                                                                 \n",
            " dense_5 (Dense)             (None, 1)                 21        \n",
            "                                                                 \n",
            "=================================================================\n",
            "Total params: 63,361\n",
            "Trainable params: 63,361\n",
            "Non-trainable params: 0\n",
            "_________________________________________________________________\n"
          ]
        }
      ]
    },
    {
      "cell_type": "code",
      "source": [
        "train_label1=nn_df1.label.values\n",
        "train_data1=nn_df1.drop('label',axis=1).values\n",
        "print(train_data1.shape)\n",
        "train_data1=train_data1.reshape(-1,n,1)\n",
        "print(train_data1.shape)\n",
        "print(train_label1.shape)"
      ],
      "metadata": {
        "colab": {
          "base_uri": "https://localhost:8080/"
        },
        "id": "bEKX9iP_pqcQ",
        "outputId": "08c3ca28-54e5-4650-f15a-c6e4b59f3935"
      },
      "execution_count": 50,
      "outputs": [
        {
          "output_type": "stream",
          "name": "stdout",
          "text": [
            "(1284, 3)\n",
            "(1284, 3, 1)\n",
            "(1284,)\n"
          ]
        }
      ]
    },
    {
      "cell_type": "code",
      "source": [
        "test_data1=train_data1[-200:]\n",
        "test_label1=train_label1[-200:]\n",
        "train_data1=train_data1[:-200]\n",
        "train_label1=train_label1[:-200]\n",
        "\n",
        "from sklearn.model_selection import train_test_split\n",
        "train_data1, val_data1, train_label1, val_label1 = train_test_split(train_data1, train_label1, random_state = 0)\n",
        "print(train_data1.shape)"
      ],
      "metadata": {
        "colab": {
          "base_uri": "https://localhost:8080/"
        },
        "id": "uU9cUxjLpu9M",
        "outputId": "9aed3264-f747-4854-db07-1b9dd325a19e"
      },
      "execution_count": 51,
      "outputs": [
        {
          "output_type": "stream",
          "name": "stdout",
          "text": [
            "(813, 3, 1)\n"
          ]
        }
      ]
    },
    {
      "cell_type": "code",
      "source": [
        "history1=model.fit(train_data1,train_label1,epochs=10,batch_size=10,verbose=1,validation_data=(val_data1,val_label1))"
      ],
      "metadata": {
        "colab": {
          "base_uri": "https://localhost:8080/"
        },
        "id": "GmYPLFFIp0C3",
        "outputId": "770fee00-c57d-43e5-a9b9-01f5f52a9c53"
      },
      "execution_count": 52,
      "outputs": [
        {
          "output_type": "stream",
          "name": "stdout",
          "text": [
            "Epoch 1/10\n",
            "82/82 [==============================] - 6s 19ms/step - loss: 0.0478 - val_loss: 0.0088\n",
            "Epoch 2/10\n",
            "82/82 [==============================] - 1s 13ms/step - loss: 0.0061 - val_loss: 0.0058\n",
            "Epoch 3/10\n",
            "82/82 [==============================] - 1s 13ms/step - loss: 0.0053 - val_loss: 0.0050\n",
            "Epoch 4/10\n",
            "82/82 [==============================] - 1s 13ms/step - loss: 0.0048 - val_loss: 0.0047\n",
            "Epoch 5/10\n",
            "82/82 [==============================] - 1s 14ms/step - loss: 0.0051 - val_loss: 0.0049\n",
            "Epoch 6/10\n",
            "82/82 [==============================] - 1s 14ms/step - loss: 0.0048 - val_loss: 0.0050\n",
            "Epoch 7/10\n",
            "82/82 [==============================] - 1s 14ms/step - loss: 0.0049 - val_loss: 0.0046\n",
            "Epoch 8/10\n",
            "82/82 [==============================] - 2s 23ms/step - loss: 0.0047 - val_loss: 0.0046\n",
            "Epoch 9/10\n",
            "82/82 [==============================] - 1s 16ms/step - loss: 0.0046 - val_loss: 0.0047\n",
            "Epoch 10/10\n",
            "82/82 [==============================] - 1s 13ms/step - loss: 0.0048 - val_loss: 0.0044\n"
          ]
        }
      ]
    },
    {
      "cell_type": "code",
      "source": [
        "fig,ax=plt.subplots()\n",
        "ax.plot(history1.history['loss'], label='train_loss')\n",
        "ax.plot(history1.history['val_loss'], label='val_loss')\n",
        "ax.set_title = 'Loss of the model'\n",
        "ax.xlabel = 'Time (Epochs)'\n",
        "ax.ylabel = 'Loss'\n",
        "ax.legend()"
      ],
      "metadata": {
        "colab": {
          "base_uri": "https://localhost:8080/",
          "height": 282
        },
        "id": "HztRT7fcp4c_",
        "outputId": "3caba41f-ccc7-4f27-a0d2-54b328f5be6a"
      },
      "execution_count": 53,
      "outputs": [
        {
          "output_type": "execute_result",
          "data": {
            "text/plain": [
              "<matplotlib.legend.Legend at 0x7fd89d0cafa0>"
            ]
          },
          "metadata": {},
          "execution_count": 53
        },
        {
          "output_type": "display_data",
          "data": {
            "text/plain": [
              "<Figure size 432x288 with 1 Axes>"
            ],
            "image/png": "[encoded data removed]"
          },
          "metadata": {
            "needs_background": "light"
          }
        }
      ]
    },
    {
      "cell_type": "code",
      "source": [
        "test_predict1=model.predict(test_data1)\n",
        "fig,ax=plt.subplots()\n",
        "ax.plot(test_predict1[offset:],label=\"Predicted Data\",linewidth=2)\n",
        "ax.plot(test_label1,label=\"True Test Data\")\n",
        "ax.set_title(\"Prediction vs Reality\")\n",
        "ax.set_xlabel(\"Sample\")\n",
        "ax.set_ylabel(\"Normalised tmin\")\n",
        "ax.legend()"
      ],
      "metadata": {
        "colab": {
          "base_uri": "https://localhost:8080/",
          "height": 330
        },
        "id": "dIskbZTJp4m7",
        "outputId": "f5232ae5-07a3-458b-8799-d1c4b3d202da"
      },
      "execution_count": 54,
      "outputs": [
        {
          "output_type": "stream",
          "name": "stdout",
          "text": [
            "7/7 [==============================] - 1s 4ms/step\n"
          ]
        },
        {
          "output_type": "execute_result",
          "data": {
            "text/plain": [
              "<matplotlib.legend.Legend at 0x7fd89d822e80>"
            ]
          },
          "metadata": {},
          "execution_count": 54
        },
        {
          "output_type": "display_data",
          "data": {
            "text/plain": [
              "<Figure size 432x288 with 1 Axes>"
            ],
            "image/png": "[encoded data removed]"
          },
          "metadata": {
            "needs_background": "light"
          }
        }
      ]
    },
    {
      "cell_type": "code",
      "source": [
        "future_week=add_dates(files.index,365)\n",
        "print(future_week)\n",
        "print(files.index)"
      ],
      "metadata": {
        "colab": {
          "base_uri": "https://localhost:8080/"
        },
        "id": "h-0rgdcGQFVw",
        "outputId": "827fecd0-1286-4f90-f90a-4d78871367b3"
      },
      "execution_count": 55,
      "outputs": [
        {
          "output_type": "stream",
          "name": "stdout",
          "text": [
            "DatetimeIndex(['1993-02-24', '1993-02-25', '1993-02-26', '1993-02-27',\n",
            "               '1993-02-28', '1993-03-01', '1993-03-02', '1993-03-03',\n",
            "               '1993-03-04', '1993-03-05',\n",
            "               ...\n",
            "               '2021-11-04', '2021-11-05', '2021-11-06', '2021-11-07',\n",
            "               '2021-11-08', '2021-11-09', '2021-11-10', '2021-11-11',\n",
            "               '2021-11-12', '2021-11-13'],\n",
            "              dtype='datetime64[ns]', length=10365, freq=None)\n",
            "DatetimeIndex(['1993-02-24', '1993-02-25', '1993-02-26', '1993-02-27',\n",
            "               '1993-02-28', '1993-03-01', '1993-03-02', '1993-03-03',\n",
            "               '1993-03-04', '1993-03-05',\n",
            "               ...\n",
            "               '2020-11-04', '2020-11-05', '2020-11-06', '2020-11-07',\n",
            "               '2020-11-08', '2020-11-09', '2020-11-10', '2020-11-11',\n",
            "               '2020-11-12', '2020-11-13'],\n",
            "              dtype='datetime64[ns]', length=10000, freq=None)\n"
          ]
        }
      ]
    },
    {
      "cell_type": "code",
      "source": [
        "df.PRCP=df.PRCP\n",
        "offset=52\n",
        "n=3 #Number of values in a time sequence\n",
        "nn_df1=make_timeseqs(df.PRCP,n,offset) #6 samples per row for training, offset of 0 (so next sample)\n",
        "nn_df1.head(10)"
      ],
      "metadata": {
        "colab": {
          "base_uri": "https://localhost:8080/",
          "height": 363
        },
        "id": "MrxFIJtIJHXn",
        "outputId": "689c04a1-332d-4515-e1b9-dc975445f9b9"
      },
      "execution_count": 56,
      "outputs": [
        {
          "output_type": "execute_result",
          "data": {
            "text/plain": [
              "                    0          1          2       label\n",
              "1993-02-28        NaN        NaN        NaN  150.142857\n",
              "1993-03-07        NaN        NaN   0.000000    0.000000\n",
              "1993-03-14        NaN   0.000000   0.000000    0.000000\n",
              "1993-03-21   0.000000   0.000000   0.000000   37.714286\n",
              "1993-03-28   0.000000   0.000000   0.000000  185.142857\n",
              "1993-04-04   0.000000   0.000000  96.285714   70.428571\n",
              "1993-04-11   0.000000  96.285714   0.000000    6.333333\n",
              "1993-04-18  96.285714   0.000000  19.000000   77.285714\n",
              "1993-04-25   0.000000  19.000000   9.000000  221.142857\n",
              "1993-05-02  19.000000   9.000000  38.571429   89.142857"
            ],
            "text/html": [
              "\n",
              "  <div id=\"df-b3f29c2a-541e-4560-a750-35045c71be2d\">\n",
              "    <div class=\"colab-df-container\">\n",
              "      <div>\n",
              "<style scoped>\n",
              "    .dataframe tbody tr th:only-of-type {\n",
              "        vertical-align: middle;\n",
              "    }\n",
              "\n",
              "    .dataframe tbody tr th {\n",
              "        vertical-align: top;\n",
              "    }\n",
              "\n",
              "    .dataframe thead th {\n",
              "        text-align: right;\n",
              "    }\n",
              "</style>\n",
              "<table border=\"1\" class=\"dataframe\">\n",
              "  <thead>\n",
              "    <tr style=\"text-align: right;\">\n",
              "      <th></th>\n",
              "      <th>0</th>\n",
              "      <th>1</th>\n",
              "      <th>2</th>\n",
              "      <th>label</th>\n",
              "    </tr>\n",
              "  </thead>\n",
              "  <tbody>\n",
              "    <tr>\n",
              "      <th>1993-02-28</th>\n",
              "      <td>NaN</td>\n",
              "      <td>NaN</td>\n",
              "      <td>NaN</td>\n",
              "      <td>150.142857</td>\n",
              "    </tr>\n",
              "    <tr>\n",
              "      <th>1993-03-07</th>\n",
              "      <td>NaN</td>\n",
              "      <td>NaN</td>\n",
              "      <td>0.000000</td>\n",
              "      <td>0.000000</td>\n",
              "    </tr>\n",
              "    <tr>\n",
              "      <th>1993-03-14</th>\n",
              "      <td>NaN</td>\n",
              "      <td>0.000000</td>\n",
              "      <td>0.000000</td>\n",
              "      <td>0.000000</td>\n",
              "    </tr>\n",
              "    <tr>\n",
              "      <th>1993-03-21</th>\n",
              "      <td>0.000000</td>\n",
              "      <td>0.000000</td>\n",
              "      <td>0.000000</td>\n",
              "      <td>37.714286</td>\n",
              "    </tr>\n",
              "    <tr>\n",
              "      <th>1993-03-28</th>\n",
              "      <td>0.000000</td>\n",
              "      <td>0.000000</td>\n",
              "      <td>0.000000</td>\n",
              "      <td>185.142857</td>\n",
              "    </tr>\n",
              "    <tr>\n",
              "      <th>1993-04-04</th>\n",
              "      <td>0.000000</td>\n",
              "      <td>0.000000</td>\n",
              "      <td>96.285714</td>\n",
              "      <td>70.428571</td>\n",
              "    </tr>\n",
              "    <tr>\n",
              "      <th>1993-04-11</th>\n",
              "      <td>0.000000</td>\n",
              "      <td>96.285714</td>\n",
              "      <td>0.000000</td>\n",
              "      <td>6.333333</td>\n",
              "    </tr>\n",
              "    <tr>\n",
              "      <th>1993-04-18</th>\n",
              "      <td>96.285714</td>\n",
              "      <td>0.000000</td>\n",
              "      <td>19.000000</td>\n",
              "      <td>77.285714</td>\n",
              "    </tr>\n",
              "    <tr>\n",
              "      <th>1993-04-25</th>\n",
              "      <td>0.000000</td>\n",
              "      <td>19.000000</td>\n",
              "      <td>9.000000</td>\n",
              "      <td>221.142857</td>\n",
              "    </tr>\n",
              "    <tr>\n",
              "      <th>1993-05-02</th>\n",
              "      <td>19.000000</td>\n",
              "      <td>9.000000</td>\n",
              "      <td>38.571429</td>\n",
              "      <td>89.142857</td>\n",
              "    </tr>\n",
              "  </tbody>\n",
              "</table>\n",
              "</div>\n",
              "      <button class=\"colab-df-convert\" onclick=\"convertToInteractive('df-b3f29c2a-541e-4560-a750-35045c71be2d')\"\n",
              "              title=\"Convert this dataframe to an interactive table.\"\n",
              "              style=\"display:none;\">\n",
              "        \n",
              "  <svg xmlns=\"http://www.w3.org/2000/svg\" height=\"24px\"viewBox=\"0 0 24 24\"\n",
              "       width=\"24px\">\n",
              "    <path d=\"M0 0h24v24H0V0z\" fill=\"none\"/>\n",
              "    <path d=\"M18.56 5.44l.94 2.06.94-2.06 2.06-.94-2.06-.94-.94-2.06-.94 2.06-2.06.94zm-11 1L8.5 8.5l.94-2.06 2.06-.94-2.06-.94L8.5 2.5l-.94 2.06-2.06.94zm10 10l.94 2.06.94-2.06 2.06-.94-2.06-.94-.94-2.06-.94 2.06-2.06.94z\"/><path d=\"M17.41 7.96l-1.37-1.37c-.4-.4-.92-.59-1.43-.59-.52 0-1.04.2-1.43.59L10.3 9.45l-7.72 7.72c-.78.78-.78 2.05 0 2.83L4 21.41c.39.39.9.59 1.41.59.51 0 1.02-.2 1.41-.59l7.78-7.78 2.81-2.81c.8-.78.8-2.07 0-2.86zM5.41 20L4 18.59l7.72-7.72 1.47 1.35L5.41 20z\"/>\n",
              "  </svg>\n",
              "      </button>\n",
              "      \n",
              "  <style>\n",
              "    .colab-df-container {\n",
              "      display:flex;\n",
              "      flex-wrap:wrap;\n",
              "      gap: 12px;\n",
              "    }\n",
              "\n",
              "    .colab-df-convert {\n",
              "      background-color: #E8F0FE;\n",
              "      border: none;\n",
              "      border-radius: 50%;\n",
              "      cursor: pointer;\n",
              "      display: none;\n",
              "      fill: #1967D2;\n",
              "      height: 32px;\n",
              "      padding: 0 0 0 0;\n",
              "      width: 32px;\n",
              "    }\n",
              "\n",
              "    .colab-df-convert:hover {\n",
              "      background-color: #E2EBFA;\n",
              "      box-shadow: 0px 1px 2px rgba(60, 64, 67, 0.3), 0px 1px 3px 1px rgba(60, 64, 67, 0.15);\n",
              "      fill: #174EA6;\n",
              "    }\n",
              "\n",
              "    [theme=dark] .colab-df-convert {\n",
              "      background-color: #3B4455;\n",
              "      fill: #D2E3FC;\n",
              "    }\n",
              "\n",
              "    [theme=dark] .colab-df-convert:hover {\n",
              "      background-color: #434B5C;\n",
              "      box-shadow: 0px 1px 3px 1px rgba(0, 0, 0, 0.15);\n",
              "      filter: drop-shadow(0px 1px 2px rgba(0, 0, 0, 0.3));\n",
              "      fill: #FFFFFF;\n",
              "    }\n",
              "  </style>\n",
              "\n",
              "      <script>\n",
              "        const buttonEl =\n",
              "          document.querySelector('#df-b3f29c2a-541e-4560-a750-35045c71be2d button.colab-df-convert');\n",
              "        buttonEl.style.display =\n",
              "          google.colab.kernel.accessAllowed ? 'block' : 'none';\n",
              "\n",
              "        async function convertToInteractive(key) {\n",
              "          const element = document.querySelector('#df-b3f29c2a-541e-4560-a750-35045c71be2d');\n",
              "          const dataTable =\n",
              "            await google.colab.kernel.invokeFunction('convertToInteractive',\n",
              "                                                     [key], {});\n",
              "          if (!dataTable) return;\n",
              "\n",
              "          const docLinkHtml = 'Like what you see? Visit the ' +\n",
              "            '<a target=\"_blank\" href=https://colab.research.google.com/notebooks/data_table.ipynb>data table notebook</a>'\n",
              "            + ' to learn more about interactive tables.';\n",
              "          element.innerHTML = '';\n",
              "          dataTable['output_type'] = 'display_data';\n",
              "          await google.colab.output.renderOutput(dataTable, element);\n",
              "          const docLink = document.createElement('div');\n",
              "          docLink.innerHTML = docLinkHtml;\n",
              "          element.appendChild(docLink);\n",
              "        }\n",
              "      </script>\n",
              "    </div>\n",
              "  </div>\n",
              "  "
            ]
          },
          "metadata": {},
          "execution_count": 56
        }
      ]
    },
    {
      "cell_type": "code",
      "source": [
        "nn_df1.dropna(axis=0, inplace=True)\n",
        "nn_df1.head()"
      ],
      "metadata": {
        "id": "x6Ti6bAQJHlG",
        "colab": {
          "base_uri": "https://localhost:8080/",
          "height": 206
        },
        "outputId": "b3d6f1cb-3be7-47de-9968-79e690e2f966"
      },
      "execution_count": 57,
      "outputs": [
        {
          "output_type": "execute_result",
          "data": {
            "text/plain": [
              "                    0          1          2       label\n",
              "1993-03-21   0.000000   0.000000   0.000000   37.714286\n",
              "1993-03-28   0.000000   0.000000   0.000000  185.142857\n",
              "1993-04-04   0.000000   0.000000  96.285714   70.428571\n",
              "1993-04-11   0.000000  96.285714   0.000000    6.333333\n",
              "1993-04-18  96.285714   0.000000  19.000000   77.285714"
            ],
            "text/html": [
              "\n",
              "  <div id=\"df-aaffcdc1-c59e-4d50-91a9-11b60830092c\">\n",
              "    <div class=\"colab-df-container\">\n",
              "      <div>\n",
              "<style scoped>\n",
              "    .dataframe tbody tr th:only-of-type {\n",
              "        vertical-align: middle;\n",
              "    }\n",
              "\n",
              "    .dataframe tbody tr th {\n",
              "        vertical-align: top;\n",
              "    }\n",
              "\n",
              "    .dataframe thead th {\n",
              "        text-align: right;\n",
              "    }\n",
              "</style>\n",
              "<table border=\"1\" class=\"dataframe\">\n",
              "  <thead>\n",
              "    <tr style=\"text-align: right;\">\n",
              "      <th></th>\n",
              "      <th>0</th>\n",
              "      <th>1</th>\n",
              "      <th>2</th>\n",
              "      <th>label</th>\n",
              "    </tr>\n",
              "  </thead>\n",
              "  <tbody>\n",
              "    <tr>\n",
              "      <th>1993-03-21</th>\n",
              "      <td>0.000000</td>\n",
              "      <td>0.000000</td>\n",
              "      <td>0.000000</td>\n",
              "      <td>37.714286</td>\n",
              "    </tr>\n",
              "    <tr>\n",
              "      <th>1993-03-28</th>\n",
              "      <td>0.000000</td>\n",
              "      <td>0.000000</td>\n",
              "      <td>0.000000</td>\n",
              "      <td>185.142857</td>\n",
              "    </tr>\n",
              "    <tr>\n",
              "      <th>1993-04-04</th>\n",
              "      <td>0.000000</td>\n",
              "      <td>0.000000</td>\n",
              "      <td>96.285714</td>\n",
              "      <td>70.428571</td>\n",
              "    </tr>\n",
              "    <tr>\n",
              "      <th>1993-04-11</th>\n",
              "      <td>0.000000</td>\n",
              "      <td>96.285714</td>\n",
              "      <td>0.000000</td>\n",
              "      <td>6.333333</td>\n",
              "    </tr>\n",
              "    <tr>\n",
              "      <th>1993-04-18</th>\n",
              "      <td>96.285714</td>\n",
              "      <td>0.000000</td>\n",
              "      <td>19.000000</td>\n",
              "      <td>77.285714</td>\n",
              "    </tr>\n",
              "  </tbody>\n",
              "</table>\n",
              "</div>\n",
              "      <button class=\"colab-df-convert\" onclick=\"convertToInteractive('df-aaffcdc1-c59e-4d50-91a9-11b60830092c')\"\n",
              "              title=\"Convert this dataframe to an interactive table.\"\n",
              "              style=\"display:none;\">\n",
              "        \n",
              "  <svg xmlns=\"http://www.w3.org/2000/svg\" height=\"24px\"viewBox=\"0 0 24 24\"\n",
              "       width=\"24px\">\n",
              "    <path d=\"M0 0h24v24H0V0z\" fill=\"none\"/>\n",
              "    <path d=\"M18.56 5.44l.94 2.06.94-2.06 2.06-.94-2.06-.94-.94-2.06-.94 2.06-2.06.94zm-11 1L8.5 8.5l.94-2.06 2.06-.94-2.06-.94L8.5 2.5l-.94 2.06-2.06.94zm10 10l.94 2.06.94-2.06 2.06-.94-2.06-.94-.94-2.06-.94 2.06-2.06.94z\"/><path d=\"M17.41 7.96l-1.37-1.37c-.4-.4-.92-.59-1.43-.59-.52 0-1.04.2-1.43.59L10.3 9.45l-7.72 7.72c-.78.78-.78 2.05 0 2.83L4 21.41c.39.39.9.59 1.41.59.51 0 1.02-.2 1.41-.59l7.78-7.78 2.81-2.81c.8-.78.8-2.07 0-2.86zM5.41 20L4 18.59l7.72-7.72 1.47 1.35L5.41 20z\"/>\n",
              "  </svg>\n",
              "      </button>\n",
              "      \n",
              "  <style>\n",
              "    .colab-df-container {\n",
              "      display:flex;\n",
              "      flex-wrap:wrap;\n",
              "      gap: 12px;\n",
              "    }\n",
              "\n",
              "    .colab-df-convert {\n",
              "      background-color: #E8F0FE;\n",
              "      border: none;\n",
              "      border-radius: 50%;\n",
              "      cursor: pointer;\n",
              "      display: none;\n",
              "      fill: #1967D2;\n",
              "      height: 32px;\n",
              "      padding: 0 0 0 0;\n",
              "      width: 32px;\n",
              "    }\n",
              "\n",
              "    .colab-df-convert:hover {\n",
              "      background-color: #E2EBFA;\n",
              "      box-shadow: 0px 1px 2px rgba(60, 64, 67, 0.3), 0px 1px 3px 1px rgba(60, 64, 67, 0.15);\n",
              "      fill: #174EA6;\n",
              "    }\n",
              "\n",
              "    [theme=dark] .colab-df-convert {\n",
              "      background-color: #3B4455;\n",
              "      fill: #D2E3FC;\n",
              "    }\n",
              "\n",
              "    [theme=dark] .colab-df-convert:hover {\n",
              "      background-color: #434B5C;\n",
              "      box-shadow: 0px 1px 3px 1px rgba(0, 0, 0, 0.15);\n",
              "      filter: drop-shadow(0px 1px 2px rgba(0, 0, 0, 0.3));\n",
              "      fill: #FFFFFF;\n",
              "    }\n",
              "  </style>\n",
              "\n",
              "      <script>\n",
              "        const buttonEl =\n",
              "          document.querySelector('#df-aaffcdc1-c59e-4d50-91a9-11b60830092c button.colab-df-convert');\n",
              "        buttonEl.style.display =\n",
              "          google.colab.kernel.accessAllowed ? 'block' : 'none';\n",
              "\n",
              "        async function convertToInteractive(key) {\n",
              "          const element = document.querySelector('#df-aaffcdc1-c59e-4d50-91a9-11b60830092c');\n",
              "          const dataTable =\n",
              "            await google.colab.kernel.invokeFunction('convertToInteractive',\n",
              "                                                     [key], {});\n",
              "          if (!dataTable) return;\n",
              "\n",
              "          const docLinkHtml = 'Like what you see? Visit the ' +\n",
              "            '<a target=\"_blank\" href=https://colab.research.google.com/notebooks/data_table.ipynb>data table notebook</a>'\n",
              "            + ' to learn more about interactive tables.';\n",
              "          element.innerHTML = '';\n",
              "          dataTable['output_type'] = 'display_data';\n",
              "          await google.colab.output.renderOutput(dataTable, element);\n",
              "          const docLink = document.createElement('div');\n",
              "          docLink.innerHTML = docLinkHtml;\n",
              "          element.appendChild(docLink);\n",
              "        }\n",
              "      </script>\n",
              "    </div>\n",
              "  </div>\n",
              "  "
            ]
          },
          "metadata": {},
          "execution_count": 57
        }
      ]
    },
    {
      "cell_type": "code",
      "source": [
        "train_label1=nn_df1.label.values\n",
        "train_data1=nn_df1.drop('label',axis=1).values\n",
        "print(train_data1.shape)\n",
        "train_data1=train_data1.reshape(-1,n,1)\n",
        "print(train_data1.shape)\n",
        "print(train_label1.shape)"
      ],
      "metadata": {
        "colab": {
          "base_uri": "https://localhost:8080/"
        },
        "id": "MGpspNA0JHpY",
        "outputId": "788d7626-e11a-4367-b591-ed8b3025818e"
      },
      "execution_count": 58,
      "outputs": [
        {
          "output_type": "stream",
          "name": "stdout",
          "text": [
            "(875, 3)\n",
            "(875, 3, 1)\n",
            "(875,)\n"
          ]
        }
      ]
    },
    {
      "cell_type": "code",
      "source": [
        "test_data1=train_data1[-200:]\n",
        "test_label1=train_label1[-200:]\n",
        "train_data1=train_data1[:-200]\n",
        "train_label1=train_label1[:-200]\n",
        "\n",
        "from sklearn.model_selection import train_test_split\n",
        "train_data1, val_data1, train_label1, val_label1 = train_test_split(train_data1, train_label1, random_state = 0)\n",
        "print(train_data1.shape)"
      ],
      "metadata": {
        "colab": {
          "base_uri": "https://localhost:8080/"
        },
        "id": "wsQpskqyJVFH",
        "outputId": "6e8ee360-608a-4c77-db9c-fbdec9202d09"
      },
      "execution_count": 59,
      "outputs": [
        {
          "output_type": "stream",
          "name": "stdout",
          "text": [
            "(506, 3, 1)\n"
          ]
        }
      ]
    },
    {
      "cell_type": "code",
      "source": [
        "history1=model.fit(train_data1,train_label1,epochs=10,batch_size=10,verbose=1,validation_data=(val_data1,val_label1))"
      ],
      "metadata": {
        "colab": {
          "base_uri": "https://localhost:8080/"
        },
        "id": "R_LxS6WpJVJp",
        "outputId": "b4e285e1-6df9-4a17-bc44-8fb039c457a0"
      },
      "execution_count": 60,
      "outputs": [
        {
          "output_type": "stream",
          "name": "stdout",
          "text": [
            "Epoch 1/10\n",
            "51/51 [==============================] - 1s 25ms/step - loss: 6743.3076 - val_loss: 6060.6274\n",
            "Epoch 2/10\n",
            "51/51 [==============================] - 1s 20ms/step - loss: 6623.8564 - val_loss: 5813.9331\n",
            "Epoch 3/10\n",
            "51/51 [==============================] - 1s 14ms/step - loss: 6384.3760 - val_loss: 5794.1396\n",
            "Epoch 4/10\n",
            "51/51 [==============================] - 1s 13ms/step - loss: 6253.3926 - val_loss: 5767.7437\n",
            "Epoch 5/10\n",
            "51/51 [==============================] - 1s 13ms/step - loss: 6211.5254 - val_loss: 5924.0884\n",
            "Epoch 6/10\n",
            "51/51 [==============================] - 1s 14ms/step - loss: 6257.6074 - val_loss: 5860.5439\n",
            "Epoch 7/10\n",
            "51/51 [==============================] - 1s 13ms/step - loss: 6283.2539 - val_loss: 5823.9224\n",
            "Epoch 8/10\n",
            "51/51 [==============================] - 1s 13ms/step - loss: 6298.5337 - val_loss: 5758.7231\n",
            "Epoch 9/10\n",
            "51/51 [==============================] - 1s 13ms/step - loss: 6248.8809 - val_loss: 5795.1875\n",
            "Epoch 10/10\n",
            "51/51 [==============================] - 1s 13ms/step - loss: 6221.8813 - val_loss: 5775.0103\n"
          ]
        }
      ]
    },
    {
      "cell_type": "code",
      "source": [
        "fig,ax=plt.subplots()\n",
        "ax.plot(history1.history['loss'], label='train_loss')\n",
        "ax.plot(history1.history['val_loss'], label='val_loss')\n",
        "ax.set_title = 'Loss of the model'\n",
        "ax.xlabel = 'Time (Epochs)'\n",
        "ax.ylabel = 'Loss'\n",
        "ax.legend()"
      ],
      "metadata": {
        "colab": {
          "base_uri": "https://localhost:8080/",
          "height": 282
        },
        "id": "56r0K3zgJVNk",
        "outputId": "a4ed7942-0cba-4024-bdaf-a0f98676961f"
      },
      "execution_count": 61,
      "outputs": [
        {
          "output_type": "execute_result",
          "data": {
            "text/plain": [
              "<matplotlib.legend.Legend at 0x7fd89dce7a90>"
            ]
          },
          "metadata": {},
          "execution_count": 61
        },
        {
          "output_type": "display_data",
          "data": {
            "text/plain": [
              "<Figure size 432x288 with 1 Axes>"
            ],
            "image/png": "[encoded data removed]"
          },
          "metadata": {
            "needs_background": "light"
          }
        }
      ]
    },
    {
      "cell_type": "code",
      "source": [
        "test_predict1=model.predict(test_data1)\n",
        "fig,ax=plt.subplots()\n",
        "ax.plot(test_predict1[offset:],label=\"Predicted Data\",linewidth=2)\n",
        "ax.plot(test_label1,label=\"True Test Data\")\n",
        "ax.set_title(\"Prediction vs Reality\")\n",
        "ax.set_xlabel(\"Sample\")\n",
        "ax.set_ylabel(\"Normalised PRCP\")\n",
        "ax.legend()"
      ],
      "metadata": {
        "colab": {
          "base_uri": "https://localhost:8080/",
          "height": 330
        },
        "id": "5plwtVnMJVRH",
        "outputId": "74ccae6e-0459-43a1-d628-5e434a11b4ec"
      },
      "execution_count": 62,
      "outputs": [
        {
          "output_type": "stream",
          "name": "stdout",
          "text": [
            "7/7 [==============================] - 0s 3ms/step\n"
          ]
        },
        {
          "output_type": "execute_result",
          "data": {
            "text/plain": [
              "<matplotlib.legend.Legend at 0x7fd89d8a7d00>"
            ]
          },
          "metadata": {},
          "execution_count": 62
        },
        {
          "output_type": "display_data",
          "data": {
            "text/plain": [
              "<Figure size 432x288 with 1 Axes>"
            ],
            "image/png": "[encoded data removed]"
          },
          "metadata": {
            "needs_background": "light"
          }
        }
      ]
    }
  ],
  "metadata": {
    "colab": {
      "provenance": []
    },
    "kernelspec": {
      "display_name": "Python 3",
      "language": "python",
      "name": "python3"
    },
    "language_info": {
      "codemirror_mode": {
        "name": "ipython",
        "version": 3
      },
      "file_extension": ".py",
      "mimetype": "text/x-python",
      "name": "python",
      "nbconvert_exporter": "python",
      "pygments_lexer": "ipython3",
      "version": "3.8.8"
    },
    "accelerator": "GPU",
    "gpuClass": "standard"
  },
  "nbformat": 4,
  "nbformat_minor": 0
}